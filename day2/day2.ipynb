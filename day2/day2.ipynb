{
  "nbformat": 4,
  "nbformat_minor": 0,
  "metadata": {
    "colab": {
      "provenance": [],
      "authorship_tag": "ABX9TyPd9ypF5AsE1zc1rHRvT/6f",
      "include_colab_link": true
    },
    "kernelspec": {
      "name": "python3",
      "display_name": "Python 3"
    },
    "language_info": {
      "name": "python"
    }
  },
  "cells": [
    {
      "cell_type": "markdown",
      "metadata": {
        "id": "view-in-github",
        "colab_type": "text"
      },
      "source": [
        "<a href=\"https://colab.research.google.com/github/mushrifa26/python-class-files/blob/main/day2/day2.ipynb\" target=\"_parent\"><img src=\"https://colab.research.google.com/assets/colab-badge.svg\" alt=\"Open In Colab\"/></a>"
      ]
    },
    {
      "cell_type": "markdown",
      "source": [],
      "metadata": {
        "id": "eykLYwD0IGK7"
      }
    },
    {
      "cell_type": "markdown",
      "source": [
        "relational operator"
      ],
      "metadata": {
        "id": "gsTyJNhKIJTN"
      }
    },
    {
      "cell_type": "code",
      "source": [
        "a=5\n",
        "b=10\n",
        "print(a==b)\n",
        "print(a!=b)\n",
        "print(a<b)\n",
        "print(a>b)\n",
        "print(a<=b)"
      ],
      "metadata": {
        "colab": {
          "base_uri": "https://localhost:8080/"
        },
        "id": "7uvf-maJGj7r",
        "outputId": "2d8fed0f-9923-42d3-a3f0-79667b8365c7"
      },
      "execution_count": null,
      "outputs": [
        {
          "output_type": "stream",
          "name": "stdout",
          "text": [
            "False\n",
            "True\n",
            "True\n",
            "False\n",
            "True\n"
          ]
        }
      ]
    },
    {
      "cell_type": "markdown",
      "source": [
        "if , else problems"
      ],
      "metadata": {
        "id": "sQuND3BOaO1F"
      }
    },
    {
      "cell_type": "code",
      "source": [
        "age=int(input(\"enter age\"))\n",
        "if age>18:\n",
        "  print(\"eligible\")\n",
        "  print(\"intendation checking\")\n",
        "print(\" exicute this line\")"
      ],
      "metadata": {
        "id": "5eExuGs3HC8K",
        "colab": {
          "base_uri": "https://localhost:8080/"
        },
        "outputId": "f54e7feb-0733-41a0-a3e0-cb4d1dabe74d"
      },
      "execution_count": null,
      "outputs": [
        {
          "output_type": "stream",
          "name": "stdout",
          "text": [
            "enter age40\n",
            "eligible\n",
            "intendation checking\n",
            " exicute this line\n"
          ]
        }
      ]
    },
    {
      "cell_type": "markdown",
      "source": [
        "vote eligibility checking"
      ],
      "metadata": {
        "id": "ud7lbcJIaZBH"
      }
    },
    {
      "cell_type": "code",
      "source": [
        "age=int(input(\"enter age\"))\n",
        "if age>=18:\n",
        "  print(\"eligible\")\n",
        "else:\n",
        "  print(\"not eligible\")\n",
        "print(\"thank you\")"
      ],
      "metadata": {
        "colab": {
          "base_uri": "https://localhost:8080/"
        },
        "id": "QBF915eXNVlQ",
        "outputId": "c0281f34-c46a-42b5-e31b-3b9892fbff52"
      },
      "execution_count": null,
      "outputs": [
        {
          "output_type": "stream",
          "name": "stdout",
          "text": [
            "enter age10\n",
            "not eligible\n",
            "thank you\n"
          ]
        }
      ]
    },
    {
      "cell_type": "markdown",
      "source": [
        "which number is large"
      ],
      "metadata": {
        "id": "xXqp6ALIafru"
      }
    },
    {
      "cell_type": "code",
      "source": [
        "num1=int(input(\"enter num1\"))\n",
        "num2=int(input(\"enter num2\"))\n",
        "if num1>num2:\n",
        "  print(\"num1 is large\")\n",
        "else:\n",
        "  print(\"num2 is large\")"
      ],
      "metadata": {
        "colab": {
          "base_uri": "https://localhost:8080/"
        },
        "id": "p-LPZZVLOPV0",
        "outputId": "05ab2b37-9871-4840-fdf3-288d392310e4"
      },
      "execution_count": null,
      "outputs": [
        {
          "output_type": "stream",
          "name": "stdout",
          "text": [
            "enter num110\n",
            "enter num220\n",
            "num2 is large\n"
          ]
        }
      ]
    },
    {
      "cell_type": "markdown",
      "source": [
        "boolean type"
      ],
      "metadata": {
        "id": "nWrl03oXQZdC"
      }
    },
    {
      "cell_type": "code",
      "source": [
        "val=False\n",
        "print(val)\n",
        "type(val)"
      ],
      "metadata": {
        "colab": {
          "base_uri": "https://localhost:8080/"
        },
        "id": "Vz_KKIzVQb4w",
        "outputId": "ab465ee0-0350-4181-8fac-242f4a4cd450"
      },
      "execution_count": null,
      "outputs": [
        {
          "output_type": "stream",
          "name": "stdout",
          "text": [
            "False\n"
          ]
        },
        {
          "output_type": "execute_result",
          "data": {
            "text/plain": [
              "bool"
            ]
          },
          "metadata": {},
          "execution_count": 18
        }
      ]
    },
    {
      "cell_type": "markdown",
      "source": [
        "logical operator"
      ],
      "metadata": {
        "id": "6el9zcDJRvBV"
      }
    },
    {
      "cell_type": "code",
      "source": [
        "a=10\n",
        "b=20\n",
        "c=10\n",
        "if a==c and b>a:\n",
        "  print(\"condition true\")\n",
        "else:\n",
        "  print(\"condition false\")\n",
        "print(not(a==b))"
      ],
      "metadata": {
        "colab": {
          "base_uri": "https://localhost:8080/"
        },
        "id": "lp9zZKJGRxvP",
        "outputId": "2c99c1f5-ecba-4d30-d4f7-518cb8d1f3ca"
      },
      "execution_count": null,
      "outputs": [
        {
          "output_type": "stream",
          "name": "stdout",
          "text": [
            "condition true\n",
            "True\n"
          ]
        }
      ]
    },
    {
      "cell_type": "markdown",
      "source": [
        "identity operators"
      ],
      "metadata": {
        "id": "j6m6CrEaVjiF"
      }
    },
    {
      "cell_type": "code",
      "source": [
        "a=100\n",
        "b=100\n",
        "id(a)\n",
        "id(b)\n",
        "a is b"
      ],
      "metadata": {
        "colab": {
          "base_uri": "https://localhost:8080/"
        },
        "id": "RWo306lEVl6d",
        "outputId": "07eccd25-4713-469f-90f6-41fa36d935c3"
      },
      "execution_count": null,
      "outputs": [
        {
          "output_type": "execute_result",
          "data": {
            "text/plain": [
              "True"
            ]
          },
          "metadata": {},
          "execution_count": 23
        }
      ]
    },
    {
      "cell_type": "code",
      "source": [
        "a=1005\n",
        "b=1005\n",
        "id(a)\n",
        "id(b)\n",
        "a is b"
      ],
      "metadata": {
        "colab": {
          "base_uri": "https://localhost:8080/"
        },
        "id": "FjZrqjOFWMKF",
        "outputId": "acd29647-0a05-4d6e-bfd2-46698e5f66b7"
      },
      "execution_count": null,
      "outputs": [
        {
          "output_type": "execute_result",
          "data": {
            "text/plain": [
              "False"
            ]
          },
          "metadata": {},
          "execution_count": 30
        }
      ]
    },
    {
      "cell_type": "markdown",
      "source": [
        "membership operator"
      ],
      "metadata": {
        "id": "944bbiXuXTaA"
      }
    },
    {
      "cell_type": "code",
      "source": [
        "\"a\" in \"happy\"\n",
        "\"d\" in \"happy\"\n",
        "\"as\" in \"asset\""
      ],
      "metadata": {
        "colab": {
          "base_uri": "https://localhost:8080/"
        },
        "id": "3xQjrMZzXWFN",
        "outputId": "9ef9d8d7-3710-4027-9009-26f87d926767"
      },
      "execution_count": null,
      "outputs": [
        {
          "output_type": "execute_result",
          "data": {
            "text/plain": [
              "True"
            ]
          },
          "metadata": {},
          "execution_count": 33
        }
      ]
    },
    {
      "cell_type": "markdown",
      "source": [
        "even or odd"
      ],
      "metadata": {
        "id": "i2GY86KyaoWt"
      }
    },
    {
      "cell_type": "code",
      "source": [
        "num1=int(input(\"enter number\"))\n",
        "if num1%2==0:\n",
        "  print(\"num1 is even\")\n",
        "else:\n",
        "  print(\"num1 is odd\")\n"
      ],
      "metadata": {
        "colab": {
          "base_uri": "https://localhost:8080/"
        },
        "id": "x193TCU0QY-b",
        "outputId": "d4c6839b-2bae-4ce2-854e-656479286cad"
      },
      "execution_count": null,
      "outputs": [
        {
          "output_type": "stream",
          "name": "stdout",
          "text": [
            "enter number5\n",
            "num1 is odd\n"
          ]
        }
      ]
    },
    {
      "cell_type": "markdown",
      "source": [
        "check number is zero or not"
      ],
      "metadata": {
        "id": "BLV1TcnzgO2X"
      }
    },
    {
      "cell_type": "code",
      "source": [
        "num1=int(input(\"enter number\"))\n",
        "if num1==0:\n",
        "  print(\"number is zero\")\n",
        "else:\n",
        "  print(\"number is not zero\")"
      ],
      "metadata": {
        "id": "Ah5AeVOuHC4s",
        "colab": {
          "base_uri": "https://localhost:8080/"
        },
        "outputId": "05a5b5a0-89d9-42c0-fc9e-af7e7f5090e4"
      },
      "execution_count": null,
      "outputs": [
        {
          "output_type": "stream",
          "name": "stdout",
          "text": [
            "enter number2\n",
            "number is not zero\n"
          ]
        }
      ]
    },
    {
      "cell_type": "markdown",
      "source": [
        "pass or fail"
      ],
      "metadata": {
        "id": "_WjUU0GNbLkB"
      }
    },
    {
      "cell_type": "code",
      "source": [
        "mark=int(input(\"enter mark \"))\n",
        "if mark>=40:\n",
        "  print(\"pass the exam\")\n",
        "else:\n",
        "  print(\"not pass\")"
      ],
      "metadata": {
        "id": "osHETtmdG82k",
        "colab": {
          "base_uri": "https://localhost:8080/"
        },
        "outputId": "1c3e8c2b-8e9a-4408-916c-e3421d338530"
      },
      "execution_count": null,
      "outputs": [
        {
          "output_type": "stream",
          "name": "stdout",
          "text": [
            "enter mark42\n",
            "pass the exam\n"
          ]
        }
      ]
    },
    {
      "cell_type": "markdown",
      "source": [
        "teenager or not"
      ],
      "metadata": {
        "id": "6PeDks8tbUGd"
      }
    },
    {
      "cell_type": "code",
      "source": [
        "age=int(input(\"enter age\"))\n",
        "if age>=13 and age<=19:\n",
        "  print(\"teenager\")\n",
        "else:\n",
        "  print(\"not teenager\")"
      ],
      "metadata": {
        "id": "qjk8Goi6G8zK",
        "colab": {
          "base_uri": "https://localhost:8080/"
        },
        "outputId": "7cb19bf9-eee6-405d-8ae1-7ea23d6a7c45"
      },
      "execution_count": null,
      "outputs": [
        {
          "output_type": "stream",
          "name": "stdout",
          "text": [
            "enter age13\n",
            "teenager\n"
          ]
        }
      ]
    },
    {
      "cell_type": "markdown",
      "source": [
        "divisible by 5"
      ],
      "metadata": {
        "id": "BwfyDaFlbo0F"
      }
    },
    {
      "cell_type": "code",
      "source": [
        "num=int(input(\"enter number\"))\n",
        "if num%5==0:\n",
        "  print(\"divisible\")\n",
        "else:\n",
        "  print(\"not divisible\")"
      ],
      "metadata": {
        "id": "oNR2h27NG8qk",
        "colab": {
          "base_uri": "https://localhost:8080/"
        },
        "outputId": "2334486b-81cc-4ad0-f87b-b61533aa52b6"
      },
      "execution_count": null,
      "outputs": [
        {
          "output_type": "stream",
          "name": "stdout",
          "text": [
            "enter number14\n",
            "not divisable\n"
          ]
        }
      ]
    },
    {
      "cell_type": "markdown",
      "source": [
        "number between 0-100"
      ],
      "metadata": {
        "id": "6SMa3488GdDR"
      }
    },
    {
      "cell_type": "code",
      "source": [
        "num=int(input(\"enter number\"))\n",
        "if num>0 and num<100:\n",
        "  print(\"between 0 and 100\")\n",
        "else:\n",
        "  print(\"not between 0 and 100\")"
      ],
      "metadata": {
        "colab": {
          "base_uri": "https://localhost:8080/"
        },
        "id": "YK8ryOF0jwFS",
        "outputId": "5b05d608-9b21-495d-960a-d58e64678789"
      },
      "execution_count": null,
      "outputs": [
        {
          "output_type": "stream",
          "name": "stdout",
          "text": [
            "enter number54\n",
            "between 0 and 100\n"
          ]
        }
      ]
    },
    {
      "cell_type": "markdown",
      "source": [
        "elif"
      ],
      "metadata": {
        "id": "6q-h3z9Nl6wJ"
      }
    },
    {
      "cell_type": "code",
      "source": [
        "num=int(input(\"enter number\"))\n",
        "if num>0:\n",
        "  print(\"positive\")\n",
        "elif num==0:\n",
        "  print(\"zero\")\n",
        "else:\n",
        "  print(\"negative\")"
      ],
      "metadata": {
        "colab": {
          "base_uri": "https://localhost:8080/"
        },
        "id": "jeSFDwxHl8U1",
        "outputId": "3eaef9db-4821-4b26-dec1-2ed34d5fcbc8"
      },
      "execution_count": null,
      "outputs": [
        {
          "output_type": "stream",
          "name": "stdout",
          "text": [
            "enter number-2\n",
            "negative\n"
          ]
        }
      ]
    },
    {
      "cell_type": "markdown",
      "source": [
        "traffic lights"
      ],
      "metadata": {
        "id": "y7g12f38b8xO"
      }
    },
    {
      "cell_type": "code",
      "source": [
        "colour=input(\"colour\")\n",
        "if colour==\"red\":\n",
        "  print(\"stop\")\n",
        "elif colour==\"yellow\":\n",
        "  print(\"wait\")\n",
        "elif colour==\"green\":\n",
        "  print(\"go\")\n",
        "else:\n",
        "  print(\"not valid\")"
      ],
      "metadata": {
        "colab": {
          "base_uri": "https://localhost:8080/"
        },
        "id": "ZWSodwPCmxUL",
        "outputId": "6a1a29ba-f8af-4d1f-8a20-8d765fbce89c"
      },
      "execution_count": null,
      "outputs": [
        {
          "output_type": "stream",
          "name": "stdout",
          "text": [
            "colourblue\n",
            "not valid\n"
          ]
        }
      ]
    },
    {
      "cell_type": "markdown",
      "source": [
        "grade check"
      ],
      "metadata": {
        "id": "dVDofrQfcApc"
      }
    },
    {
      "cell_type": "code",
      "source": [
        "mark=int(input(\"enter mark\"))\n",
        "if mark>=90 and mark<100:\n",
        "  print(\"grade a\")\n",
        "elif mark>=75 and mark<90:\n",
        "  print(\"grade b\")\n",
        "elif mark>=50 and mark<75:\n",
        "  print(\"grade c\")\n",
        "else:\n",
        "  print(\"failed\")"
      ],
      "metadata": {
        "colab": {
          "base_uri": "https://localhost:8080/"
        },
        "id": "I8hkbokgpbRG",
        "outputId": "85f6242f-bcc5-4598-8a95-68a6e3c165fa"
      },
      "execution_count": null,
      "outputs": [
        {
          "output_type": "stream",
          "name": "stdout",
          "text": [
            "enter mark5\n",
            "failed\n"
          ]
        }
      ]
    },
    {
      "cell_type": "markdown",
      "source": [
        "loop intialization , condition ,updation"
      ],
      "metadata": {
        "id": "6bD79HkftwRk"
      }
    },
    {
      "cell_type": "code",
      "source": [
        "a=1\n",
        "while a<=10:\n",
        "  print(a)\n",
        "  a=a+1"
      ],
      "metadata": {
        "colab": {
          "base_uri": "https://localhost:8080/"
        },
        "id": "4RO_7VqKt4oO",
        "outputId": "c31f42e4-44d0-44a8-af33-e43eb6740e24"
      },
      "execution_count": null,
      "outputs": [
        {
          "output_type": "stream",
          "name": "stdout",
          "text": [
            "1\n",
            "2\n",
            "3\n",
            "4\n",
            "5\n",
            "6\n",
            "7\n",
            "8\n",
            "9\n",
            "10\n"
          ]
        }
      ]
    },
    {
      "cell_type": "code",
      "source": [
        "a=1\n",
        "while a<=15:\n",
        "  print(\"mushirifa\")\n",
        "  a=a+1\n",
        "\n"
      ],
      "metadata": {
        "colab": {
          "base_uri": "https://localhost:8080/"
        },
        "id": "4-WtN1NTu7J1",
        "outputId": "6e1210b0-1126-4ed1-a5b7-b08966c16bfb"
      },
      "execution_count": null,
      "outputs": [
        {
          "output_type": "stream",
          "name": "stdout",
          "text": [
            "mushirifa\n",
            "mushirifa\n",
            "mushirifa\n",
            "mushirifa\n",
            "mushirifa\n",
            "mushirifa\n",
            "mushirifa\n",
            "mushirifa\n",
            "mushirifa\n",
            "mushirifa\n",
            "mushirifa\n",
            "mushirifa\n",
            "mushirifa\n",
            "mushirifa\n",
            "mushirifa\n"
          ]
        }
      ]
    },
    {
      "cell_type": "code",
      "source": [
        "a=10\n",
        "while a>=0:\n",
        "  print(a)\n",
        "  a=a-1"
      ],
      "metadata": {
        "colab": {
          "base_uri": "https://localhost:8080/"
        },
        "id": "K9GPIZV9xIfx",
        "outputId": "e68d997b-61db-4dc9-fc54-0996bd45e9bb"
      },
      "execution_count": null,
      "outputs": [
        {
          "output_type": "stream",
          "name": "stdout",
          "text": [
            "10\n",
            "9\n",
            "8\n",
            "7\n",
            "6\n",
            "5\n",
            "4\n",
            "3\n",
            "2\n",
            "1\n",
            "0\n"
          ]
        }
      ]
    },
    {
      "cell_type": "code",
      "source": [
        "result=0\n",
        "a=0\n",
        "while a<=10:\n",
        "  result=result+a\n",
        "  a=a+1\n",
        "  print(\"result=\",result)"
      ],
      "metadata": {
        "colab": {
          "base_uri": "https://localhost:8080/"
        },
        "id": "dMlu4ulNzgEq",
        "outputId": "28112eff-0569-4345-d7ca-9b46c3714a01"
      },
      "execution_count": null,
      "outputs": [
        {
          "output_type": "stream",
          "name": "stdout",
          "text": [
            "result= 0\n",
            "result= 1\n",
            "result= 3\n",
            "result= 6\n",
            "result= 10\n",
            "result= 15\n",
            "result= 21\n",
            "result= 28\n",
            "result= 36\n",
            "result= 45\n",
            "result= 55\n"
          ]
        }
      ]
    }
  ]
}