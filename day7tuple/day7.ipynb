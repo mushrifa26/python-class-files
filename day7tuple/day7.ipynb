{
  "nbformat": 4,
  "nbformat_minor": 0,
  "metadata": {
    "colab": {
      "provenance": [],
      "authorship_tag": "ABX9TyNcBR9x1Vdh6+o3B/H+LfE5",
      "include_colab_link": true
    },
    "kernelspec": {
      "name": "python3",
      "display_name": "Python 3"
    },
    "language_info": {
      "name": "python"
    }
  },
  "cells": [
    {
      "cell_type": "markdown",
      "metadata": {
        "id": "view-in-github",
        "colab_type": "text"
      },
      "source": [
        "<a href=\"https://colab.research.google.com/github/mushrifa26/python-class-files/blob/main/day7tuple/day7.ipynb\" target=\"_parent\"><img src=\"https://colab.research.google.com/assets/colab-badge.svg\" alt=\"Open In Colab\"/></a>"
      ]
    },
    {
      "cell_type": "code",
      "source": [
        "tup=()\n",
        "tup=(1,2,3)\n",
        "tup3=23,45,67\n",
        "tup4=tuple([4,56,7])\n",
        "tup5=tuple(\"welcome\")\n",
        "tup5"
      ],
      "metadata": {
        "colab": {
          "base_uri": "https://localhost:8080/"
        },
        "id": "bsB1wgXL_IJv",
        "outputId": "e88ffb70-5bbc-40ab-b033-164700c26f34"
      },
      "execution_count": null,
      "outputs": [
        {
          "output_type": "execute_result",
          "data": {
            "text/plain": [
              "('w', 'e', 'l', 'c', 'o', 'm', 'e')"
            ]
          },
          "metadata": {},
          "execution_count": 6
        }
      ]
    },
    {
      "cell_type": "code",
      "source": [
        "t1=(10,20,30,40)\n",
        "print(t1[1])\n",
        "print(t1[-1])\n",
        "print(t1[1:3])\n",
        "\n"
      ],
      "metadata": {
        "colab": {
          "base_uri": "https://localhost:8080/"
        },
        "id": "vLAF66IZAGIa",
        "outputId": "4617fce3-e47f-4c37-8023-8fce01a49355"
      },
      "execution_count": null,
      "outputs": [
        {
          "output_type": "stream",
          "name": "stdout",
          "text": [
            "20\n",
            "40\n",
            "(20, 30)\n"
          ]
        }
      ]
    },
    {
      "cell_type": "code",
      "source": [
        "tup1=(3,4)\n",
        "type(tup1)\n",
        "tup2=(100)\n",
        "type(tup2)\n",
        "tup3=(100,)\n",
        "type(tup3)"
      ],
      "metadata": {
        "colab": {
          "base_uri": "https://localhost:8080/"
        },
        "id": "OXsQaHZBBWbZ",
        "outputId": "ed28c92e-603b-4ae5-ad6d-a5833c109a5c"
      },
      "execution_count": null,
      "outputs": [
        {
          "output_type": "execute_result",
          "data": {
            "text/plain": [
              "tuple"
            ]
          },
          "metadata": {},
          "execution_count": 13
        }
      ]
    },
    {
      "cell_type": "markdown",
      "source": [
        "tuple operation"
      ],
      "metadata": {
        "id": "Vvgkw5SOB-IT"
      }
    },
    {
      "cell_type": "code",
      "source": [
        "tup1=(2,4,)+(4,6)\n",
        "tup1\n",
        "tup2=(\"python,\")*3\n",
        "tup2\n",
        "tup3=(1,2,3,4)\n",
        "3 in tup3\n",
        "len(tup1)"
      ],
      "metadata": {
        "colab": {
          "base_uri": "https://localhost:8080/"
        },
        "id": "A_tt_i8BB_0F",
        "outputId": "73981121-2b32-4d43-8475-5c028fecd65e"
      },
      "execution_count": null,
      "outputs": [
        {
          "output_type": "execute_result",
          "data": {
            "text/plain": [
              "4"
            ]
          },
          "metadata": {},
          "execution_count": 19
        }
      ]
    },
    {
      "cell_type": "markdown",
      "source": [
        "methods"
      ],
      "metadata": {
        "id": "4zyxLUjnC7im"
      }
    },
    {
      "cell_type": "code",
      "source": [
        "tup1=(1,2,2,3,4,56,4,6,6)\n",
        "tup1.count(2)\n",
        "tup1.index(56)\n",
        "len(tup1)\n",
        "max(tup1)\n",
        "min(tup1)\n",
        "sum(tup1)\n",
        "sorted(tup1)\n",
        "tuple(tup1)"
      ],
      "metadata": {
        "colab": {
          "base_uri": "https://localhost:8080/"
        },
        "id": "-1zDQGIlC9C0",
        "outputId": "1c515573-7369-4af2-90de-10092df3dec9"
      },
      "execution_count": null,
      "outputs": [
        {
          "output_type": "execute_result",
          "data": {
            "text/plain": [
              "(1, 2, 2, 3, 4, 56, 4, 6, 6)"
            ]
          },
          "metadata": {},
          "execution_count": 40
        }
      ]
    },
    {
      "cell_type": "markdown",
      "source": [
        "unpacking tuple"
      ],
      "metadata": {
        "id": "1BPXefFyFSHx"
      }
    },
    {
      "cell_type": "code",
      "source": [
        "tup1=(1,2,3)\n",
        "a,b,c=tup1\n",
        "a\n",
        "b\n",
        "c"
      ],
      "metadata": {
        "colab": {
          "base_uri": "https://localhost:8080/"
        },
        "id": "kcdkPNk8FUF5",
        "outputId": "f849bd68-71a3-47eb-907c-d391a949ce55"
      },
      "execution_count": null,
      "outputs": [
        {
          "output_type": "execute_result",
          "data": {
            "text/plain": [
              "3"
            ]
          },
          "metadata": {},
          "execution_count": 45
        }
      ]
    },
    {
      "cell_type": "markdown",
      "source": [
        "for loop"
      ],
      "metadata": {
        "id": "i-GgFHXOHLmi"
      }
    },
    {
      "cell_type": "code",
      "source": [
        "tup=(1,2,3,4,5)\n",
        "for i in tup:\n",
        "  print(i)\n",
        "tup1=(1,2,3,4,5)\n",
        "for i in range(len(tup1)):\n",
        "  print(i,tup1[i])\n",
        "  print(f\"(i)th {tup1[i]}\")\n",
        "\n"
      ],
      "metadata": {
        "colab": {
          "base_uri": "https://localhost:8080/"
        },
        "id": "nQw7tEgmHN7J",
        "outputId": "13a14224-ad91-4711-ce6f-015b6de1b7e3"
      },
      "execution_count": null,
      "outputs": [
        {
          "output_type": "stream",
          "name": "stdout",
          "text": [
            "1\n",
            "2\n",
            "3\n",
            "4\n",
            "5\n",
            "0 1\n",
            "(i)th 1\n",
            "1 2\n",
            "(i)th 2\n",
            "2 3\n",
            "(i)th 3\n",
            "3 4\n",
            "(i)th 4\n",
            "4 5\n",
            "(i)th 5\n"
          ]
        }
      ]
    },
    {
      "cell_type": "code",
      "source": [
        "tup=(1,2,3,4,5)\n",
        "i=0\n",
        "while i<len(tup):\n",
        "  print(f\"{i} th {tup[i]}\")\n",
        "  i=i+1"
      ],
      "metadata": {
        "colab": {
          "base_uri": "https://localhost:8080/"
        },
        "id": "a9ZsI9kPJIde",
        "outputId": "d588e305-23b9-449e-9f79-b207febab1f3"
      },
      "execution_count": null,
      "outputs": [
        {
          "output_type": "stream",
          "name": "stdout",
          "text": [
            "0 th 1\n",
            "1 th 2\n",
            "2 th 3\n",
            "3 th 4\n",
            "4 th 5\n"
          ]
        }
      ]
    },
    {
      "cell_type": "markdown",
      "source": [
        "add elements to tuple"
      ],
      "metadata": {
        "id": "jY3jxiObLaqe"
      }
    },
    {
      "cell_type": "code",
      "source": [
        "tup=()\n",
        "limit=int(input(\"enter limit\"))\n",
        "for i in range(limit):\n",
        "  element=int(input(\"enter element\"))\n",
        "  tup+=(element,)\n",
        "print(tup)"
      ],
      "metadata": {
        "colab": {
          "base_uri": "https://localhost:8080/"
        },
        "id": "-DCJQ021Lfm9",
        "outputId": "1b3c4346-cd80-458b-968f-b25b84e387ae"
      },
      "execution_count": null,
      "outputs": [
        {
          "output_type": "stream",
          "name": "stdout",
          "text": [
            "enter limit5\n",
            "enter element1\n",
            "enter element2\n",
            "enter element3\n",
            "enter element4\n",
            "enter element5\n",
            "(1, 2, 3, 4, 5)\n"
          ]
        }
      ]
    }
  ]
}