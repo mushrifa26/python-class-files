{
  "nbformat": 4,
  "nbformat_minor": 0,
  "metadata": {
    "colab": {
      "provenance": [],
      "authorship_tag": "ABX9TyMa6798zwxCDQasw4e+Qbo5",
      "include_colab_link": true
    },
    "kernelspec": {
      "name": "python3",
      "display_name": "Python 3"
    },
    "language_info": {
      "name": "python"
    }
  },
  "cells": [
    {
      "cell_type": "markdown",
      "metadata": {
        "id": "view-in-github",
        "colab_type": "text"
      },
      "source": [
        "<a href=\"https://colab.research.google.com/github/mushrifa26/python-class-files/blob/main/day6/day_6.ipynb\" target=\"_parent\"><img src=\"https://colab.research.google.com/assets/colab-badge.svg\" alt=\"Open In Colab\"/></a>"
      ]
    },
    {
      "cell_type": "code",
      "execution_count": null,
      "metadata": {
        "colab": {
          "base_uri": "https://localhost:8080/"
        },
        "id": "fjNXtsMNWnHg",
        "outputId": "56395998-7b14-48b8-a3cb-a8be13d6d42b"
      },
      "outputs": [
        {
          "output_type": "stream",
          "name": "stdout",
          "text": [
            "90\n"
          ]
        }
      ],
      "source": [
        "list1=[1,34,67.8,\"mushrifa\", [67,8,90]]\n",
        "print(list1[4][2])"
      ]
    },
    {
      "cell_type": "markdown",
      "source": [
        "eval"
      ],
      "metadata": {
        "id": "QSiuXfPWZNlJ"
      }
    },
    {
      "cell_type": "code",
      "source": [
        "result=eval(\"8+5\")\n",
        "print(result)"
      ],
      "metadata": {
        "colab": {
          "base_uri": "https://localhost:8080/"
        },
        "id": "QzH1QYa6ZSiU",
        "outputId": "28bdb74f-4072-4673-daee-ef8b03c4b81b"
      },
      "execution_count": null,
      "outputs": [
        {
          "output_type": "stream",
          "name": "stdout",
          "text": [
            "13\n"
          ]
        }
      ]
    },
    {
      "cell_type": "code",
      "source": [
        "list1=list(eval(input(\"enter list\")))\n",
        "print(list1)\n",
        "print(type(list1))"
      ],
      "metadata": {
        "colab": {
          "base_uri": "https://localhost:8080/"
        },
        "id": "nV8NVWxhaYVw",
        "outputId": "8539d203-141f-4596-97b0-25e2c7613d0a"
      },
      "execution_count": null,
      "outputs": [
        {
          "output_type": "stream",
          "name": "stdout",
          "text": [
            "enter list65,87,90\n",
            "[65, 87, 90]\n",
            "<class 'list'>\n"
          ]
        }
      ]
    },
    {
      "cell_type": "code",
      "source": [
        "limit=int(input(\"enter the number\"))\n",
        "list1=[]\n",
        "for i in range(limit):\n",
        "  data=int(input(\"enter the number\"))\n",
        "  list1.append(data)\n",
        "  print(list1)"
      ],
      "metadata": {
        "colab": {
          "base_uri": "https://localhost:8080/"
        },
        "id": "nVfs1YW5b3O0",
        "outputId": "9b1af581-4ec7-4591-efa9-1853448dae17"
      },
      "execution_count": null,
      "outputs": [
        {
          "output_type": "stream",
          "name": "stdout",
          "text": [
            "enter the number5\n",
            "enter the number56\n",
            "[56]\n",
            "enter the number56\n",
            "[56, 56]\n",
            "enter the number78\n",
            "[56, 56, 78]\n",
            "enter the number90\n",
            "[56, 56, 78, 90]\n",
            "enter the number7\n",
            "[56, 56, 78, 90, 7]\n"
          ]
        }
      ]
    },
    {
      "cell_type": "code",
      "source": [
        "list1=[23,45,65,7,21,\"hello\",8,90]\n",
        "list1.append(5)\n",
        "print(list1)\n",
        "list1.insert(3,4)\n",
        "print(list1)\n",
        "list1.remove(21)\n",
        "print(list1)\n",
        "list1.pop(5)\n",
        "print(list1)\n",
        "list1.sort()\n",
        "print(list1)\n",
        "list1.reverse()\n",
        "print(list1)"
      ],
      "metadata": {
        "colab": {
          "base_uri": "https://localhost:8080/"
        },
        "id": "JKxHXeV1mJvD",
        "outputId": "b834cb10-1532-47a1-8959-907c0249b870"
      },
      "execution_count": null,
      "outputs": [
        {
          "output_type": "stream",
          "name": "stdout",
          "text": [
            "[23, 45, 65, 7, 21, 'hello', 8, 90, 5]\n",
            "[23, 45, 65, 4, 7, 21, 'hello', 8, 90, 5]\n",
            "[23, 45, 65, 4, 7, 'hello', 8, 90, 5]\n",
            "[23, 45, 65, 4, 7, 8, 90, 5]\n",
            "[4, 5, 7, 8, 23, 45, 65, 90]\n",
            "[90, 65, 45, 23, 8, 7, 5, 4]\n"
          ]
        }
      ]
    },
    {
      "cell_type": "code",
      "source": [
        "list1=[34,78,92,43,32]\n",
        "list2=[33,65,88,10]\n",
        "list1.extend(list2)\n",
        "print(list1)\n",
        "print(len(list1))\n",
        "list1.count(10)\n"
      ],
      "metadata": {
        "colab": {
          "base_uri": "https://localhost:8080/"
        },
        "id": "uNUKNlZJoIWv",
        "outputId": "b6ee6d20-9546-4e01-de3a-066c0e3623e1"
      },
      "execution_count": null,
      "outputs": [
        {
          "output_type": "stream",
          "name": "stdout",
          "text": [
            "[34, 78, 92, 43, 32, 33, 65, 88, 10]\n",
            "9\n"
          ]
        },
        {
          "output_type": "execute_result",
          "data": {
            "text/plain": [
              "1"
            ]
          },
          "metadata": {},
          "execution_count": 29
        }
      ]
    },
    {
      "cell_type": "code",
      "source": [
        "list1=[12,34,5]+[23,2,68]\n",
        "print(list1)\n",
        "list2=[\"hi\"]*3\n",
        "print(list2)\n",
        "list3=[1,2,3]\n",
        "print(2 in list3)"
      ],
      "metadata": {
        "colab": {
          "base_uri": "https://localhost:8080/"
        },
        "id": "RGiNoebAqDMU",
        "outputId": "effb2c89-8e7c-4122-efad-0108b8d42eeb"
      },
      "execution_count": null,
      "outputs": [
        {
          "output_type": "stream",
          "name": "stdout",
          "text": [
            "[12, 34, 5, 23, 2, 68]\n",
            "['hi', 'hi', 'hi']\n",
            "True\n"
          ]
        }
      ]
    },
    {
      "cell_type": "code",
      "source": [
        "list1=[1,2,3,4,5,6]\n",
        "for i in list1:\n",
        "  print(i)\n",
        "for i in range(len(list1)):\n",
        "  print(list1[i])"
      ],
      "metadata": {
        "colab": {
          "base_uri": "https://localhost:8080/"
        },
        "id": "E9Z7Ra8cspKo",
        "outputId": "d9298b0e-044d-42fd-8c9c-f6885daa1b73"
      },
      "execution_count": null,
      "outputs": [
        {
          "output_type": "stream",
          "name": "stdout",
          "text": [
            "1\n",
            "2\n",
            "3\n",
            "4\n",
            "5\n",
            "6\n",
            "1\n",
            "2\n",
            "3\n",
            "4\n",
            "5\n",
            "6\n"
          ]
        }
      ]
    },
    {
      "cell_type": "code",
      "source": [
        "list1=[1,2,2,2,3,4,5]\n",
        "for i in range(len(list1)):\n",
        "  if list1[i]==2:\n",
        "    print(\"2 at index=\",i)"
      ],
      "metadata": {
        "colab": {
          "base_uri": "https://localhost:8080/"
        },
        "id": "OwSc_uDmtCl8",
        "outputId": "c0d051b5-67cb-4b27-94aa-4b422ec11cbd"
      },
      "execution_count": null,
      "outputs": [
        {
          "output_type": "stream",
          "name": "stdout",
          "text": [
            "2 at index= 1\n",
            "2 at index= 2\n",
            "2 at index= 3\n"
          ]
        }
      ]
    },
    {
      "cell_type": "code",
      "source": [
        "list1=[23,33,42,56,21,90]\n",
        "list1.clear()\n",
        "print(list1)"
      ],
      "metadata": {
        "colab": {
          "base_uri": "https://localhost:8080/"
        },
        "id": "WpWalq9ruphR",
        "outputId": "2616bff2-ae4d-44b6-f11a-53740ea95979"
      },
      "execution_count": null,
      "outputs": [
        {
          "output_type": "stream",
          "name": "stdout",
          "text": [
            "[]\n"
          ]
        }
      ]
    },
    {
      "cell_type": "code",
      "source": [
        "list1=[23,33,11,25,8]\n",
        "del list1[2]\n",
        "print(list1)"
      ],
      "metadata": {
        "colab": {
          "base_uri": "https://localhost:8080/"
        },
        "id": "GpClOpATu2yU",
        "outputId": "de784663-040b-456f-9ee7-35119c790d31"
      },
      "execution_count": null,
      "outputs": [
        {
          "output_type": "stream",
          "name": "stdout",
          "text": [
            "[23, 33, 25, 8]\n"
          ]
        }
      ]
    },
    {
      "cell_type": "markdown",
      "source": [
        "list in while loop"
      ],
      "metadata": {
        "id": "X9hlEfmIvpuF"
      }
    },
    {
      "cell_type": "code",
      "source": [
        "fruits=[\"apple\",\"banana\",\"grapes\"]\n",
        "i=0\n",
        "while i<len(fruits):\n",
        "  print(fruits[i])\n",
        "  i=i+1"
      ],
      "metadata": {
        "colab": {
          "base_uri": "https://localhost:8080/"
        },
        "id": "LwH0bRMivo-k",
        "outputId": "e2a9b31d-5a5f-4023-c4c5-2ef207d7e0b8"
      },
      "execution_count": null,
      "outputs": [
        {
          "output_type": "stream",
          "name": "stdout",
          "text": [
            "apple\n",
            "banana\n",
            "grapes\n"
          ]
        }
      ]
    },
    {
      "cell_type": "code",
      "source": [
        "str1=\"hi my name is mushrifa\"\n",
        "words=str1.split()\n",
        "print(len(words))\n",
        "str2=\"hi#my#name#is#mushrifa#\"\n",
        "words1=str2.split('#')\n",
        "print(words1)\n"
      ],
      "metadata": {
        "colab": {
          "base_uri": "https://localhost:8080/"
        },
        "id": "q83Yv-W3xPlS",
        "outputId": "2dbca5c0-50c7-41b5-baa3-0708d93f0fb8"
      },
      "execution_count": null,
      "outputs": [
        {
          "output_type": "stream",
          "name": "stdout",
          "text": [
            "5\n",
            "['hi', 'my', 'name', 'is', 'mushrifa', '']\n"
          ]
        }
      ]
    },
    {
      "cell_type": "code",
      "source": [
        "str1=\"hi i am mushrifa\"\n",
        "list(str1)\n",
        "list(\"hello\")"
      ],
      "metadata": {
        "colab": {
          "base_uri": "https://localhost:8080/"
        },
        "id": "v5EMk7CNyTRv",
        "outputId": "86c4df58-0ae0-47c6-9a98-bc2ba3b29a92"
      },
      "execution_count": null,
      "outputs": [
        {
          "output_type": "execute_result",
          "data": {
            "text/plain": [
              "['h', 'e', 'l', 'l', 'o']"
            ]
          },
          "metadata": {},
          "execution_count": 58
        }
      ]
    },
    {
      "cell_type": "code",
      "source": [
        "squares=[i**2 for i in range(6)]\n",
        "print(squares)"
      ],
      "metadata": {
        "colab": {
          "base_uri": "https://localhost:8080/"
        },
        "id": "evOzFKc0zUGH",
        "outputId": "2941ec7d-594b-4246-ddde-bb34eb0927c4"
      },
      "execution_count": null,
      "outputs": [
        {
          "output_type": "stream",
          "name": "stdout",
          "text": [
            "[0, 1, 4, 9, 16, 25]\n"
          ]
        }
      ]
    },
    {
      "cell_type": "code",
      "source": [
        "matrix=[[1,2,3],[4,5,6],[7,8,9]]\n",
        "for i in matrix:\n",
        "  print(i)\n",
        "  for j in i:\n",
        "    print(j,end=\" \")\n",
        "  print()"
      ],
      "metadata": {
        "colab": {
          "base_uri": "https://localhost:8080/"
        },
        "id": "V6O6BcnD0viv",
        "outputId": "b752cee0-7a32-48e9-fa51-ae6efa4256ff"
      },
      "execution_count": null,
      "outputs": [
        {
          "output_type": "stream",
          "name": "stdout",
          "text": [
            "[1, 2, 3]\n",
            "1 2 3 \n",
            "[4, 5, 6]\n",
            "4 5 6 \n",
            "[7, 8, 9]\n",
            "7 8 9 \n"
          ]
        }
      ]
    }
  ]
}