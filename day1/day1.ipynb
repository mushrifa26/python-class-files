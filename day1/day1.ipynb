{
  "nbformat": 4,
  "nbformat_minor": 0,
  "metadata": {
    "colab": {
      "provenance": [],
      "authorship_tag": "ABX9TyPiAEf2dcQBaATlEs+yXkG7",
      "include_colab_link": true
    },
    "kernelspec": {
      "name": "python3",
      "display_name": "Python 3"
    },
    "language_info": {
      "name": "python"
    }
  },
  "cells": [
    {
      "cell_type": "markdown",
      "metadata": {
        "id": "view-in-github",
        "colab_type": "text"
      },
      "source": [
        "<a href=\"https://colab.research.google.com/github/mushrifa26/python-class-files/blob/main/day1/day1.ipynb\" target=\"_parent\"><img src=\"https://colab.research.google.com/assets/colab-badge.svg\" alt=\"Open In Colab\"/></a>"
      ]
    },
    {
      "cell_type": "markdown",
      "source": [
        "print fuction"
      ],
      "metadata": {
        "id": "hfl9_S1YrL4Y"
      }
    },
    {
      "cell_type": "code",
      "source": [
        "print(\"hello welcome\")"
      ],
      "metadata": {
        "colab": {
          "base_uri": "https://localhost:8080/"
        },
        "id": "a3DOZyCWrXVa",
        "outputId": "4e9583f9-3b10-4e6d-b9d3-d9cfbd5006fc"
      },
      "execution_count": null,
      "outputs": [
        {
          "output_type": "stream",
          "name": "stdout",
          "text": [
            "hello welcome\n"
          ]
        }
      ]
    },
    {
      "cell_type": "markdown",
      "source": [
        "arithmatic operators(+,-,*,/)"
      ],
      "metadata": {
        "id": "5wMiB7BWtq0c"
      }
    },
    {
      "cell_type": "code",
      "source": [
        "a=10\n",
        "print(\"a=\",a)\n",
        "print(type(a))\n",
        "print(id(a))\n",
        "a=a+2\n",
        "print(\"a=\",a)\n",
        "a=a*2\n",
        "print(\"a=\",a)\n",
        "a=a/2\n",
        "print(\"a=\",a)\n",
        "print(\"type\",type(a))"
      ],
      "metadata": {
        "colab": {
          "base_uri": "https://localhost:8080/"
        },
        "id": "SuL2h3slusRY",
        "outputId": "5a638add-26c7-45d4-8f99-d6cdc21c6069"
      },
      "execution_count": null,
      "outputs": [
        {
          "output_type": "stream",
          "name": "stdout",
          "text": [
            "a= 10\n",
            "<class 'int'>\n",
            "10758024\n",
            "a= 12\n",
            "a= 24\n",
            "a= 12.0\n",
            "type <class 'float'>\n"
          ]
        }
      ]
    },
    {
      "cell_type": "markdown",
      "source": [
        "type of variables"
      ],
      "metadata": {
        "id": "Va8NnqSlsHXV"
      }
    },
    {
      "cell_type": "code",
      "source": [
        "a=\"mushirifa\"\n",
        "print(\"a=\",a)\n",
        "print(type(a))\n",
        "print(id(a))"
      ],
      "metadata": {
        "colab": {
          "base_uri": "https://localhost:8080/"
        },
        "id": "XAr6IztBv8R3",
        "outputId": "28dc5364-9c50-4d3a-bd8b-323e51af5474"
      },
      "execution_count": null,
      "outputs": [
        {
          "output_type": "stream",
          "name": "stdout",
          "text": [
            "a= mushirifa\n",
            "<class 'str'>\n",
            "138308017088304\n"
          ]
        }
      ]
    },
    {
      "cell_type": "markdown",
      "source": [
        "naming rules and convensions"
      ],
      "metadata": {
        "id": "V8cf5vkA8M0u"
      }
    },
    {
      "cell_type": "code",
      "source": [
        "A=10\n",
        "a=100\n",
        "print(\"A=\",A,'a=',a)"
      ],
      "metadata": {
        "colab": {
          "base_uri": "https://localhost:8080/"
        },
        "id": "D3FWatYg8q6O",
        "outputId": "16a07128-299e-47d5-9a5d-797b62cd435d"
      },
      "execution_count": null,
      "outputs": [
        {
          "output_type": "stream",
          "name": "stdout",
          "text": [
            "A= 10 a= 100\n"
          ]
        }
      ]
    },
    {
      "cell_type": "markdown",
      "source": [
        "input function"
      ],
      "metadata": {
        "id": "GE9_-fWG-8lr"
      }
    },
    {
      "cell_type": "code",
      "source": [
        "name=input(\"enter your name\")\n",
        "print(\"my name is\",name)"
      ],
      "metadata": {
        "colab": {
          "base_uri": "https://localhost:8080/"
        },
        "id": "L6-z7SNp-_zn",
        "outputId": "92fa26dd-fc91-4c9c-e5ce-90eb0348282f"
      },
      "execution_count": null,
      "outputs": [
        {
          "output_type": "stream",
          "name": "stdout",
          "text": [
            "enter your namemushrifa\n",
            "my name is mushrifa\n"
          ]
        }
      ]
    },
    {
      "cell_type": "markdown",
      "source": [
        "input fuction by defualt return string. inorder to convert number explisitily use int function."
      ],
      "metadata": {
        "id": "Q0e84NZjAufr"
      }
    },
    {
      "cell_type": "code",
      "source": [
        "number=int(input(\"enter number\"))\n",
        "print(\"number=\",number,type(number))"
      ],
      "metadata": {
        "colab": {
          "base_uri": "https://localhost:8080/"
        },
        "id": "B_jhlHAYBGLo",
        "outputId": "bdb6480c-be11-4649-d13b-93296e1b7f2d"
      },
      "execution_count": null,
      "outputs": [
        {
          "output_type": "stream",
          "name": "stdout",
          "text": [
            "enter number10\n",
            "number= 10 <class 'int'>\n"
          ]
        }
      ]
    },
    {
      "cell_type": "markdown",
      "source": [
        "write a programe to sum to numbers"
      ],
      "metadata": {
        "id": "rTTK5wGVCzKa"
      }
    },
    {
      "cell_type": "code",
      "source": [
        "num1=int(input(\"enter first number\"))\n",
        "num2=int(input(\"enter second number\"))\n",
        "result=num1+num2\n",
        "print(\"sum of two number=\",result)\n",
        "print(f\"sum of {num1} and{num2} is {result}\")"
      ],
      "metadata": {
        "colab": {
          "base_uri": "https://localhost:8080/"
        },
        "id": "fLqd6R2OC807",
        "outputId": "2ae98ca3-cd68-40c1-afad-aa1f7546b09a"
      },
      "execution_count": null,
      "outputs": [
        {
          "output_type": "stream",
          "name": "stdout",
          "text": [
            "enter first number10\n",
            "enter second number30\n",
            "sum of two number= 40\n",
            "sum of 10 and30 is 40\n"
          ]
        }
      ]
    },
    {
      "cell_type": "markdown",
      "source": [
        "area of rectangle"
      ],
      "metadata": {
        "id": "QasjhNtFGCgN"
      }
    },
    {
      "cell_type": "code",
      "source": [
        "length=int(input(\"enter length\"))\n",
        "width=int(input(\"enter width\"))\n",
        "result=length*width\n",
        "print(\"area of rectangle=\",result)\n",
        "print(f\"sum of {length} and {width}  is {result}\")"
      ],
      "metadata": {
        "colab": {
          "base_uri": "https://localhost:8080/"
        },
        "id": "iIGZ3BETGFVa",
        "outputId": "4b2bda4a-e42e-49b7-a511-b5f6e24fb23a"
      },
      "execution_count": null,
      "outputs": [
        {
          "output_type": "stream",
          "name": "stdout",
          "text": [
            "enter length6\n",
            "enter width3\n",
            "area of rectangle= 18\n",
            "sum of 6 and 3  is 18\n"
          ]
        }
      ]
    },
    {
      "cell_type": "markdown",
      "source": [
        "multiple variable assignment"
      ],
      "metadata": {
        "id": "WiQnYRfsK7g4"
      }
    },
    {
      "cell_type": "code",
      "source": [
        "\"\"\"multiple variab\n",
        "assignment\"\"\"\n",
        "a,b,c=4,5,6\n",
        "print(\"a\",a)\n",
        "print(\"b\",b)\n"
      ],
      "metadata": {
        "colab": {
          "base_uri": "https://localhost:8080/"
        },
        "id": "aDiYvpvLK_Ql",
        "outputId": "0af4b098-ac01-4a0b-862d-c6aaacc3429d"
      },
      "execution_count": null,
      "outputs": [
        {
          "output_type": "stream",
          "name": "stdout",
          "text": [
            "a 4\n",
            "b 5\n"
          ]
        }
      ]
    },
    {
      "cell_type": "markdown",
      "source": [
        "keywords"
      ],
      "metadata": {
        "id": "5Gr4Ht8fZsbK"
      }
    },
    {
      "cell_type": "code",
      "source": [
        "import keyword\n",
        "print(keyword.kwlist)"
      ],
      "metadata": {
        "colab": {
          "base_uri": "https://localhost:8080/"
        },
        "id": "48VJmkT1N2F8",
        "outputId": "72d5e138-a412-456b-d777-30087f6ee389"
      },
      "execution_count": null,
      "outputs": [
        {
          "output_type": "stream",
          "name": "stdout",
          "text": [
            "['False', 'None', 'True', 'and', 'as', 'assert', 'async', 'await', 'break', 'class', 'continue', 'def', 'del', 'elif', 'else', 'except', 'finally', 'for', 'from', 'global', 'if', 'import', 'in', 'is', 'lambda', 'nonlocal', 'not', 'or', 'pass', 'raise', 'return', 'try', 'while', 'with', 'yield']\n"
          ]
        }
      ]
    },
    {
      "cell_type": "markdown",
      "source": [
        "floor division"
      ],
      "metadata": {
        "id": "kAJYBM86QfAD"
      }
    },
    {
      "cell_type": "code",
      "source": [
        "a=12\n",
        "a=a/7\n",
        "print(\"a\",a)\n",
        "#print(\"a\",12/7)\n",
        "a=12\n",
        "a=a//7\n",
        "#print(\"a\",12)\n",
        "#print(\"a\",a)\n",
        "#modulas operator\n",
        "a=10\n",
        "a=a%3\n",
        "print(\"a\",a)\n",
        "a=10\n",
        "a=a**3\n",
        "print(\"a\",a)"
      ],
      "metadata": {
        "colab": {
          "base_uri": "https://localhost:8080/"
        },
        "id": "Y_p8yj_TQhtN",
        "outputId": "4a30a234-c336-453d-aa22-bd112e55606a"
      },
      "execution_count": null,
      "outputs": [
        {
          "output_type": "stream",
          "name": "stdout",
          "text": [
            "a 1.7142857142857142\n",
            "a 1\n",
            "a 1000\n"
          ]
        }
      ]
    },
    {
      "cell_type": "markdown",
      "source": [
        "assignment operator"
      ],
      "metadata": {
        "id": "MqxqA7QKV_ES"
      }
    },
    {
      "cell_type": "code",
      "source": [
        "a=10\n",
        "print(\"a\",a)\n",
        "a+=5\n",
        "print(\"a\",a)\n",
        "a-=5\n",
        "print('a',a)\n",
        "a*=10\n",
        "print(\"a\",a)\n",
        "a/=10\n",
        "print(\"a\",a)\n",
        "a//=2\n",
        "print(\"a\",a)\n",
        "a%=2\n",
        "print(\"a\",a)\n",
        "a**=2\n",
        "print(\"a\",a)\n"
      ],
      "metadata": {
        "colab": {
          "base_uri": "https://localhost:8080/"
        },
        "id": "kgdZuWL6WByL",
        "outputId": "33454735-2003-4878-ca8d-3418ea21ab23"
      },
      "execution_count": null,
      "outputs": [
        {
          "output_type": "stream",
          "name": "stdout",
          "text": [
            "a 10\n",
            "a 15\n",
            "a 10\n",
            "a 100\n",
            "a 10.0\n",
            "a 5.0\n",
            "a 1.0\n",
            "a 1.0\n"
          ]
        }
      ]
    },
    {
      "cell_type": "markdown",
      "source": [
        "calculate area and perimeter of square"
      ],
      "metadata": {
        "id": "oJ5aJrEtbt8O"
      }
    },
    {
      "cell_type": "code",
      "source": [
        "length=int(input(\"enter length\"))\n",
        "width=int(input(\"enter width\"))\n",
        "result=length*width\n",
        "print(\"area of square\",result)\n",
        "print(f\"sum of {length} and {width} is the {result}\")\n",
        "#perimeter\n",
        "sides=int(input(\"enter side\"))\n",
        "length=int(input(\"enter length\"))\n",
        "result=length*sides\n",
        "print(\"perimeter of square is\", result)"
      ],
      "metadata": {
        "colab": {
          "base_uri": "https://localhost:8080/"
        },
        "id": "9BdbpQOob6IA",
        "outputId": "ff7c0bb3-0ad9-434e-b28b-ecd4936fb9ad"
      },
      "execution_count": null,
      "outputs": [
        {
          "output_type": "stream",
          "name": "stdout",
          "text": [
            "enter length5\n",
            "enter width5\n",
            "area of square 25\n",
            "sum of 5 and 5 is the 25\n",
            "enter side4\n",
            "enter length5\n",
            "perimeter of square is 20\n"
          ]
        }
      ]
    },
    {
      "cell_type": "markdown",
      "source": [
        "total cost"
      ],
      "metadata": {
        "id": "MmbaWZUW1bIx"
      }
    },
    {
      "cell_type": "code",
      "source": [
        " cost=int(input(\"enter cost\"))\n",
        "quantity=int(input(\"enter quantity\"))\n",
        "result=cost*quantity\n",
        "print(\"total cost\",result)"
      ],
      "metadata": {
        "id": "zcfOTIVpeT9_",
        "colab": {
          "base_uri": "https://localhost:8080/"
        },
        "outputId": "780d9290-c192-4961-e9c5-4a82d4d9b620"
      },
      "execution_count": null,
      "outputs": [
        {
          "output_type": "stream",
          "name": "stdout",
          "text": [
            "enter cost25\n",
            "enter quantity5\n",
            "total cost 125\n"
          ]
        }
      ]
    },
    {
      "cell_type": "markdown",
      "source": [
        "name and age"
      ],
      "metadata": {
        "id": "1BeDX3t0El9e"
      }
    },
    {
      "cell_type": "code",
      "source": [
        "name=input(\"enter name\")\n",
        "age=input(\"enter age\")\n",
        "print(f\"hello i am {name} and {age} years old\")"
      ],
      "metadata": {
        "colab": {
          "base_uri": "https://localhost:8080/"
        },
        "id": "rD0ttPRsF0ND",
        "outputId": "40c72ba4-bef3-480a-82fa-b61829ad779b"
      },
      "execution_count": null,
      "outputs": [
        {
          "output_type": "stream",
          "name": "stdout",
          "text": [
            "enter namemushrifa\n",
            "enter age21\n",
            "hello i am mushrifa and 21 years old\n"
          ]
        }
      ]
    },
    {
      "cell_type": "markdown",
      "source": [
        "business card"
      ],
      "metadata": {
        "id": "iMn_r9LVDXte"
      }
    },
    {
      "cell_type": "code",
      "source": [
        "print(\"business card\")\n",
        "print(\"name Mushirifa\")\n",
        "print(\"designation Data scientist\")\n",
        "print(\"company Google\")\n",
        "print(\"contact 8157072405\")"
      ],
      "metadata": {
        "colab": {
          "base_uri": "https://localhost:8080/"
        },
        "id": "hHETEutADrmJ",
        "outputId": "bb562d31-b01a-40ae-ffd8-0c6fa38d62a0"
      },
      "execution_count": null,
      "outputs": [
        {
          "output_type": "stream",
          "name": "stdout",
          "text": [
            "business card\n",
            "name Mushirifa\n",
            "designation Data scientist\n",
            "company Google\n",
            "contact 8157072405\n"
          ]
        }
      ]
    },
    {
      "cell_type": "markdown",
      "source": [
        "calculate GST"
      ],
      "metadata": {
        "id": "heD1HPQGFrPX"
      }
    },
    {
      "cell_type": "code",
      "source": [
        "price=int(input(\"price\"))\n",
        "gstrate=int(input(\"gstrate\"))\n",
        "gstamout=price*gstrate\n",
        "print(\"gstamout\",gstamout)\n",
        "totalprice=price+gstamout\n",
        "print(\"totalprice\",totalprice)"
      ],
      "metadata": {
        "colab": {
          "base_uri": "https://localhost:8080/"
        },
        "id": "7rHMMjrWIRER",
        "outputId": "6f34ea42-1e75-42eb-e444-2c9bea9c2c27"
      },
      "execution_count": null,
      "outputs": [
        {
          "output_type": "stream",
          "name": "stdout",
          "text": [
            "price150\n",
            "gstrate5\n",
            "gstamout 750\n",
            "totalprice 900\n"
          ]
        }
      ]
    },
    {
      "cell_type": "markdown",
      "source": [
        "speed calculation"
      ],
      "metadata": {
        "id": "6C1spi1zJ3m5"
      }
    },
    {
      "cell_type": "code",
      "source": [
        "distance=int(input(\"distance\"))\n",
        "time=int(input(\"time\"))\n",
        "speed=distance/time\n",
        "print(\"speed\",speed)"
      ],
      "metadata": {
        "colab": {
          "base_uri": "https://localhost:8080/"
        },
        "id": "4Ai7v1SMJ9PM",
        "outputId": "ec776b0f-bde0-4219-a4c5-97185552c270"
      },
      "execution_count": null,
      "outputs": [
        {
          "output_type": "stream",
          "name": "stdout",
          "text": [
            "distance12\n",
            "time3\n",
            "speed 4.0\n"
          ]
        }
      ]
    },
    {
      "cell_type": "markdown",
      "source": [],
      "metadata": {
        "id": "BL4eg3MeCkEF"
      }
    },
    {
      "cell_type": "markdown",
      "source": [
        "average mark"
      ],
      "metadata": {
        "id": "6MTYqpwELeNJ"
      }
    },
    {
      "cell_type": "code",
      "source": [
        "mark1=int(input(\"mark1 \"))\n",
        "mark2=int(input(\"mark2\"))\n",
        "mark3=int(input(\"mark3\"))\n",
        "average=mark1+mark2+mark3/3\n",
        "print(\"average\",average)"
      ],
      "metadata": {
        "id": "ZxUnfhKPLi6s"
      },
      "execution_count": null,
      "outputs": []
    }
  ]
}