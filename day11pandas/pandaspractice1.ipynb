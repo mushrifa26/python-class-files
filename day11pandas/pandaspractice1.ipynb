{
  "nbformat": 4,
  "nbformat_minor": 0,
  "metadata": {
    "colab": {
      "provenance": [],
      "authorship_tag": "ABX9TyOB8U6Kkw0n1Vp2RGGOg7rx",
      "include_colab_link": true
    },
    "kernelspec": {
      "name": "python3",
      "display_name": "Python 3"
    },
    "language_info": {
      "name": "python"
    }
  },
  "cells": [
    {
      "cell_type": "markdown",
      "metadata": {
        "id": "view-in-github",
        "colab_type": "text"
      },
      "source": [
        "<a href=\"https://colab.research.google.com/github/mushrifa26/python-class-files/blob/main/day11pandas/pandaspractice1.ipynb\" target=\"_parent\"><img src=\"https://colab.research.google.com/assets/colab-badge.svg\" alt=\"Open In Colab\"/></a>"
      ]
    },
    {
      "cell_type": "markdown",
      "source": [
        "In Pandas, both Series and DataFrame are used to store data, but they have different structures and use cases.\n",
        "\n",
        "\n",
        "Pandas is a Python library essential for data manipulation and analysis.\n",
        "It offers data structures and operations for manipulating numerical tables and time series data.\n",
        "\n",
        "\n"
      ],
      "metadata": {
        "id": "Je1I3SjD87cC"
      }
    },
    {
      "cell_type": "code",
      "execution_count": null,
      "metadata": {
        "id": "KjhOu4Qr3Oy9"
      },
      "outputs": [],
      "source": [
        "import pandas as pd\n",
        "\n"
      ]
    },
    {
      "cell_type": "markdown",
      "source": [
        "1. Pandas Series\n",
        "\n",
        "One-dimensional labeled array.\n",
        "\n",
        "Can hold any data type: integers, floats, strings, Python objects, etc.\n",
        "\n",
        "Has an index (labels for rows).\n",
        "\n",
        "Similar to a single column in Excel or a single column in a database table\n"
      ],
      "metadata": {
        "id": "HRMgAO2D_Crj"
      }
    },
    {
      "cell_type": "code",
      "source": [
        "s=pd.Series([10,20,30],index=[\"a\",\"b\",\"c\"])\n",
        "print(s)"
      ],
      "metadata": {
        "colab": {
          "base_uri": "https://localhost:8080/"
        },
        "id": "6AsNN21B_EJf",
        "outputId": "48626a14-6b67-4f53-b825-4488eb1818cb"
      },
      "execution_count": null,
      "outputs": [
        {
          "output_type": "stream",
          "name": "stdout",
          "text": [
            "a    10\n",
            "b    20\n",
            "c    30\n",
            "dtype: int64\n"
          ]
        }
      ]
    },
    {
      "cell_type": "markdown",
      "source": [
        "Create a Series from a list of your favorite fruits.\n"
      ],
      "metadata": {
        "id": "bX2Cyih4_2Rc"
      }
    },
    {
      "cell_type": "code",
      "source": [
        "fruits=[\"apple\",\"banana\",\"cherry\",\"dates\"]\n",
        "s=pd.Series(fruits)\n",
        "print(s)"
      ],
      "metadata": {
        "colab": {
          "base_uri": "https://localhost:8080/"
        },
        "id": "kL5tTP2z_0aq",
        "outputId": "c0969d6a-1fe9-41c4-8c71-10440ef8c784"
      },
      "execution_count": null,
      "outputs": [
        {
          "output_type": "stream",
          "name": "stdout",
          "text": [
            "0     apple\n",
            "1    banana\n",
            "2    cherry\n",
            "3     dates\n",
            "dtype: object\n"
          ]
        }
      ]
    },
    {
      "cell_type": "markdown",
      "source": [
        "Access the element with index 'b' from the Series.\n"
      ],
      "metadata": {
        "id": "ZTNdQpZVAsKv"
      }
    },
    {
      "cell_type": "code",
      "source": [
        "print(s[2])"
      ],
      "metadata": {
        "colab": {
          "base_uri": "https://localhost:8080/"
        },
        "id": "rOg2pER_AoY9",
        "outputId": "11f07acc-937b-4bd9-b0f0-434040fd7544"
      },
      "execution_count": null,
      "outputs": [
        {
          "output_type": "stream",
          "name": "stdout",
          "text": [
            "cherry\n"
          ]
        }
      ]
    },
    {
      "cell_type": "markdown",
      "source": [
        "Select multiple elements from the Series by index labels 'a' and 'c'\n"
      ],
      "metadata": {
        "id": "ZbHUxozcA6X_"
      }
    },
    {
      "cell_type": "code",
      "source": [
        "print(s[[2,3]])"
      ],
      "metadata": {
        "colab": {
          "base_uri": "https://localhost:8080/"
        },
        "id": "CO5HRBkiBAjF",
        "outputId": "bdd17858-96cc-428a-a162-55386c45874d"
      },
      "execution_count": null,
      "outputs": [
        {
          "output_type": "stream",
          "name": "stdout",
          "text": [
            "2    cherry\n",
            "3     dates\n",
            "dtype: object\n"
          ]
        }
      ]
    },
    {
      "cell_type": "markdown",
      "source": [
        "Create a Series from a dictionary and sort it by values.\n"
      ],
      "metadata": {
        "id": "S0PXSZQ2BVhg"
      }
    },
    {
      "cell_type": "code",
      "source": [
        "data = {'John': 25, 'Anna': 22, 'Peter': 30}\n",
        "s=pd.Series(data)\n",
        "print(s.sort_values())"
      ],
      "metadata": {
        "colab": {
          "base_uri": "https://localhost:8080/"
        },
        "id": "cwc5s4GCBZWP",
        "outputId": "46671398-e103-4005-d55f-3d0fccd59554"
      },
      "execution_count": null,
      "outputs": [
        {
          "output_type": "stream",
          "name": "stdout",
          "text": [
            "Anna     22\n",
            "John     25\n",
            "Peter    30\n",
            "dtype: int64\n"
          ]
        }
      ]
    },
    {
      "cell_type": "markdown",
      "source": [
        "Find** the mean, median, and standard deviation of this Series.\n"
      ],
      "metadata": {
        "id": "BGN15bToB_TH"
      }
    },
    {
      "cell_type": "code",
      "source": [
        "\n",
        "#mean\n",
        "print(s.mean())"
      ],
      "metadata": {
        "colab": {
          "base_uri": "https://localhost:8080/"
        },
        "id": "Ua2cINROCAfD",
        "outputId": "8f66ca85-5ff8-4219-be0b-19ad28a0c8c7"
      },
      "execution_count": null,
      "outputs": [
        {
          "output_type": "stream",
          "name": "stdout",
          "text": [
            "25.666666666666668\n"
          ]
        }
      ]
    },
    {
      "cell_type": "code",
      "source": [
        "\n",
        "#median\n",
        "print(s.median())"
      ],
      "metadata": {
        "colab": {
          "base_uri": "https://localhost:8080/"
        },
        "id": "5tot7MR7CRnE",
        "outputId": "c59b51be-1f9d-422b-ebef-d8767cc0b969"
      },
      "execution_count": null,
      "outputs": [
        {
          "output_type": "stream",
          "name": "stdout",
          "text": [
            "25.0\n"
          ]
        }
      ]
    },
    {
      "cell_type": "code",
      "source": [
        "print('Standard Deviation:', s.std())\n"
      ],
      "metadata": {
        "colab": {
          "base_uri": "https://localhost:8080/"
        },
        "id": "TXGmIJ6aCrko",
        "outputId": "808b2d18-8f31-43a2-f74e-7fded7084f33"
      },
      "execution_count": null,
      "outputs": [
        {
          "output_type": "stream",
          "name": "stdout",
          "text": [
            "Standard Deviation: 4.041451884327381\n"
          ]
        }
      ]
    },
    {
      "cell_type": "markdown",
      "source": [
        "Add 5 to each element in the Series.\n"
      ],
      "metadata": {
        "id": "p65VVDa2MnsG"
      }
    },
    {
      "cell_type": "code",
      "source": [
        "s_plus_5 = s + 5\n",
        "print(s_plus_5)"
      ],
      "metadata": {
        "colab": {
          "base_uri": "https://localhost:8080/"
        },
        "id": "X_vaK9TOMocE",
        "outputId": "401f1d46-dcb9-4e52-a59f-9d813e6d0eb0"
      },
      "execution_count": null,
      "outputs": [
        {
          "output_type": "stream",
          "name": "stdout",
          "text": [
            "John     30\n",
            "Anna     27\n",
            "Peter    35\n",
            "dtype: int64\n"
          ]
        }
      ]
    },
    {
      "cell_type": "markdown",
      "source": [
        "Filter elements greater than 24.\n"
      ],
      "metadata": {
        "id": "mtPQAG_TM2Rg"
      }
    },
    {
      "cell_type": "code",
      "source": [
        "print(s[s > 24])\n"
      ],
      "metadata": {
        "colab": {
          "base_uri": "https://localhost:8080/"
        },
        "id": "LrftkTxaM7ga",
        "outputId": "88cee3ba-0a74-45f2-be9a-a6e5a48638b7"
      },
      "execution_count": null,
      "outputs": [
        {
          "output_type": "stream",
          "name": "stdout",
          "text": [
            "John     25\n",
            "Peter    30\n",
            "dtype: int64\n"
          ]
        }
      ]
    },
    {
      "cell_type": "markdown",
      "source": [
        "A DataFrame in Pandas is a two-dimensional labeled data structure — basically a table with rows and columns. It’s one of the most commonly used structures in data analysis with Python.\n"
      ],
      "metadata": {
        "id": "K2nljdhVNSJL"
      }
    },
    {
      "cell_type": "markdown",
      "source": [
        "Key Features of a DataFrame\n",
        "\n",
        "2-Dimensional: Has both rows and columns.\n",
        "\n",
        "Labeled axes: Each row has an index, each column has a name.\n",
        "\n",
        "Heterogeneous data: Each column can have a different data type (integers, strings, floats, etc.).\n",
        "\n",
        "Can be created from dictionaries, lists, NumPy arrays, or CSV/Excel files.\n",
        "bcc-xspc-fdn"
      ],
      "metadata": {
        "id": "-Nueg0vrNfRE"
      }
    },
    {
      "cell_type": "code",
      "source": [
        "data = {\n",
        "    'Name': ['Alice', 'Bob', 'Charlie', 'David'],\n",
        "    'Age': [24, 27, 22, 32],\n",
        "    'City': ['New York', 'Los Angeles', 'Chicago', 'Houston']\n",
        "}\n",
        "\n",
        "df = pd.DataFrame(data)\n",
        "print(df)"
      ],
      "metadata": {
        "colab": {
          "base_uri": "https://localhost:8080/"
        },
        "id": "RAsUDJhuNTMs",
        "outputId": "054ca0b3-889d-4020-9dca-4c872496711d"
      },
      "execution_count": null,
      "outputs": [
        {
          "output_type": "stream",
          "name": "stdout",
          "text": [
            "      Name  Age         City\n",
            "0    Alice   24     New York\n",
            "1      Bob   27  Los Angeles\n",
            "2  Charlie   22      Chicago\n",
            "3    David   32      Houston\n"
          ]
        }
      ]
    },
    {
      "cell_type": "markdown",
      "source": [
        "The read_csv() function reads data from a CSV file and loads it into a DataFrame.\n",
        "\n",
        "\n",
        "Example:\n",
        "\n",
        "df = pd.read_csv('file.csv')"
      ],
      "metadata": {
        "id": "bvOeBR2TOlft"
      }
    }
  ]
}