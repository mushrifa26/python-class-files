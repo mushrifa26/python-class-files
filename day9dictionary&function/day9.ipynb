{
  "nbformat": 4,
  "nbformat_minor": 0,
  "metadata": {
    "colab": {
      "provenance": [],
      "authorship_tag": "ABX9TyNQxTEWymznk8LtkrtYI9mw",
      "include_colab_link": true
    },
    "kernelspec": {
      "name": "python3",
      "display_name": "Python 3"
    },
    "language_info": {
      "name": "python"
    }
  },
  "cells": [
    {
      "cell_type": "markdown",
      "metadata": {
        "id": "view-in-github",
        "colab_type": "text"
      },
      "source": [
        "<a href=\"https://colab.research.google.com/github/mushrifa26/python-class-files/blob/main/day9dictionary%26function/day9.ipynb\" target=\"_parent\"><img src=\"https://colab.research.google.com/assets/colab-badge.svg\" alt=\"Open In Colab\"/></a>"
      ]
    },
    {
      "cell_type": "markdown",
      "source": [
        "dictionary problems\n",
        "frequency of letters in a string as dictionary"
      ],
      "metadata": {
        "id": "wkPaaTXQrIfE"
      }
    },
    {
      "cell_type": "code",
      "execution_count": null,
      "metadata": {
        "colab": {
          "base_uri": "https://localhost:8080/"
        },
        "id": "cGw8RnsXqFPP",
        "outputId": "769c31f2-3000-4326-97a8-506aca6e0e29"
      },
      "outputs": [
        {
          "output_type": "stream",
          "name": "stdout",
          "text": [
            "enter wordmushrifa\n",
            "{'m': 1, 'u': 1, 's': 1, 'h': 1, 'r': 1, 'i': 1, 'f': 1, 'a': 1}\n",
            "<built-in function sum>\n"
          ]
        }
      ],
      "source": [
        "key=input(\"enter word\")\n",
        "value={}\n",
        "for i in key:\n",
        "  if i in value:\n",
        "    value[i]=value[i]+1\n",
        "  else:\n",
        "    value[i]=1\n",
        "print(value)\n",
        "print(sum)"
      ]
    },
    {
      "cell_type": "code",
      "source": [
        "dict1={}\n",
        "limit=int(input(\"enter limit\"))\n",
        "for i in range(limit):\n",
        "  dict1[i]=i*i\n",
        "print(dict1)\n"
      ],
      "metadata": {
        "colab": {
          "base_uri": "https://localhost:8080/"
        },
        "id": "wSxKst0RvTuH",
        "outputId": "6f4191ab-bdd2-49ce-fdfe-8c6643a1f5bf"
      },
      "execution_count": null,
      "outputs": [
        {
          "output_type": "stream",
          "name": "stdout",
          "text": [
            "enter limit3\n",
            "{0: 0, 1: 1, 2: 4}\n"
          ]
        }
      ]
    },
    {
      "cell_type": "code",
      "source": [
        "str1=input(\"enter a sentence\")\n",
        "word=str1.split()\n",
        "value={}\n",
        "for i in word:\n",
        "  if i in value:\n",
        "    value[i]=value[i]+1\n",
        "  else:\n",
        "    value[i]=1\n",
        "print(value)"
      ],
      "metadata": {
        "colab": {
          "base_uri": "https://localhost:8080/"
        },
        "id": "DeWV27o5zUtB",
        "outputId": "d25c6f1a-bf7c-4248-eb3c-67b5f6c81d2a"
      },
      "execution_count": null,
      "outputs": [
        {
          "output_type": "stream",
          "name": "stdout",
          "text": [
            "enter a sentencemy name is \n",
            "{'my': 1, 'name': 1, 'is': 1}\n"
          ]
        }
      ]
    },
    {
      "cell_type": "markdown",
      "source": [
        "sum of values"
      ],
      "metadata": {
        "id": "fEwuAhzQ2mrT"
      }
    },
    {
      "cell_type": "code",
      "source": [
        "dict1={1:10,3:9,4:6,8:3}\n",
        "#result=sum(dict1.values())\n",
        "#print(result)\n",
        "print(type(dict1))\n",
        "print(type(dict1.values()))\n",
        "print(sum (dict1.values()))\n",
        "\n"
      ],
      "metadata": {
        "colab": {
          "base_uri": "https://localhost:8080/"
        },
        "id": "tzT1g8oO2ojN",
        "outputId": "8100fc69-aec5-4608-bad1-4528874b99f6"
      },
      "execution_count": null,
      "outputs": [
        {
          "output_type": "stream",
          "name": "stdout",
          "text": [
            "<class 'dict'>\n",
            "<class 'dict_values'>\n",
            "28\n"
          ]
        }
      ]
    },
    {
      "cell_type": "markdown",
      "source": [
        "maximum value"
      ],
      "metadata": {
        "id": "XnCNqjIQC7YO"
      }
    },
    {
      "cell_type": "code",
      "source": [
        "dict1={1:5,9:10,8:67,4:87,5:94}\n",
        "print(max(dict1.values()))\n"
      ],
      "metadata": {
        "colab": {
          "base_uri": "https://localhost:8080/"
        },
        "id": "rbnfplzGCXpq",
        "outputId": "9a69051b-bb9b-42ac-f447-ae08e6307fd4"
      },
      "execution_count": null,
      "outputs": [
        {
          "output_type": "stream",
          "name": "stdout",
          "text": [
            "94\n"
          ]
        }
      ]
    },
    {
      "cell_type": "markdown",
      "source": [
        "# **FUNCTION**"
      ],
      "metadata": {
        "id": "S8rGx28CIEI6"
      }
    },
    {
      "cell_type": "markdown",
      "source": [
        "SUM OF TWO NUMBERS"
      ],
      "metadata": {
        "id": "3iXJyM0GKabR"
      }
    },
    {
      "cell_type": "code",
      "source": [
        "def addnum(first,second):\n",
        "  resul=first+second\n",
        "  return resul\n",
        "\n",
        "firstnum=int(input(\"enter first number\"))\n",
        "secondnum=int(input(\"enter second number\"))\n",
        "result=addnum(firstnum,secondnum)\n",
        "print(result)"
      ],
      "metadata": {
        "colab": {
          "base_uri": "https://localhost:8080/"
        },
        "id": "kXckHxXYIDkE",
        "outputId": "9386056f-cc77-4498-a8f4-405f21abf4ea"
      },
      "execution_count": null,
      "outputs": [
        {
          "output_type": "stream",
          "name": "stdout",
          "text": [
            "enter first number34\n",
            "enter second number23\n",
            "57\n"
          ]
        }
      ]
    },
    {
      "cell_type": "markdown",
      "source": [
        "multiplication of 3 numbers"
      ],
      "metadata": {
        "id": "1LxLpdZELcvu"
      }
    },
    {
      "cell_type": "code",
      "source": [
        "def mnum(first,second,third):\n",
        "  resul=first*second*third\n",
        "  return resul\n",
        "\n",
        "firstnum=int(input(\"enter number\"))\n",
        "secondnum=int(input(\"enter number\"))\n",
        "thirdnum=int(input(\"enter number\"))\n",
        "result=mnum(firstnum,secondnum,thirdnum)\n",
        "print(result)"
      ],
      "metadata": {
        "colab": {
          "base_uri": "https://localhost:8080/"
        },
        "id": "2ztPNi9mLfsx",
        "outputId": "c551fc11-14c1-4b48-bce6-55bd44002213"
      },
      "execution_count": null,
      "outputs": [
        {
          "output_type": "stream",
          "name": "stdout",
          "text": [
            "enter number3\n",
            "enter number4\n",
            "enter number5\n",
            "60\n"
          ]
        }
      ]
    },
    {
      "cell_type": "markdown",
      "source": [
        "calculate interest"
      ],
      "metadata": {
        "id": "u71R8OzANB9h"
      }
    },
    {
      "cell_type": "code",
      "source": [
        "def intr(p,n,r):\n",
        "  resul=p*n*r\n",
        "  return resul\n",
        "\n",
        "prn=int(input(\"enter prn\"))\n",
        "year=int(input(\"enter year\"))\n",
        "rate=float(input(\"enter rate\"))\n",
        "interest=intr(prn,year,rate)\n",
        "print(\"interest;\",interest)"
      ],
      "metadata": {
        "colab": {
          "base_uri": "https://localhost:8080/"
        },
        "id": "Fz9IKt65NEVZ",
        "outputId": "5e7f7f54-5e0c-4cf6-d5e4-9b4283d73739"
      },
      "execution_count": null,
      "outputs": [
        {
          "output_type": "stream",
          "name": "stdout",
          "text": [
            "enter prn30000\n",
            "enter year2\n",
            "enter rate0.5\n",
            "interest; 30000.0\n"
          ]
        }
      ]
    }
  ]
}