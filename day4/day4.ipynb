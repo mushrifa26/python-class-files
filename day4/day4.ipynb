{
  "nbformat": 4,
  "nbformat_minor": 0,
  "metadata": {
    "colab": {
      "provenance": [],
      "authorship_tag": "ABX9TyNUjW+/npaYNL7Mjs0hFka4",
      "include_colab_link": true
    },
    "kernelspec": {
      "name": "python3",
      "display_name": "Python 3"
    },
    "language_info": {
      "name": "python"
    }
  },
  "cells": [
    {
      "cell_type": "markdown",
      "metadata": {
        "id": "view-in-github",
        "colab_type": "text"
      },
      "source": [
        "<a href=\"https://colab.research.google.com/github/mushrifa26/python-class-files/blob/main/day4/day4.ipynb\" target=\"_parent\"><img src=\"https://colab.research.google.com/assets/colab-badge.svg\" alt=\"Open In Colab\"/></a>"
      ]
    },
    {
      "cell_type": "markdown",
      "source": [
        "loop in loop"
      ],
      "metadata": {
        "id": "t_nGi5EFwPkN"
      }
    },
    {
      "cell_type": "code",
      "execution_count": null,
      "metadata": {
        "colab": {
          "base_uri": "https://localhost:8080/"
        },
        "id": "Y0uoz1C_wKm4",
        "outputId": "eafc8dcd-2fcd-4b81-d9a5-cfac1610e116"
      },
      "outputs": [
        {
          "output_type": "stream",
          "name": "stdout",
          "text": [
            "firstkid= 1\n",
            "1\n",
            "2\n",
            "3\n",
            "firstkid= 2\n",
            "1\n",
            "2\n",
            "3\n",
            "firstkid= 3\n",
            "1\n",
            "2\n",
            "3\n",
            "firstkid= 4\n",
            "1\n",
            "2\n",
            "3\n",
            "firstkid= 5\n",
            "1\n",
            "2\n",
            "3\n"
          ]
        }
      ],
      "source": [
        "for firstkid in range(1,6,1):\n",
        "  print(\"firstkid=\",firstkid)\n",
        "  for secondkid in range(1,4,1):\n",
        "    print(secondkid)"
      ]
    },
    {
      "cell_type": "code",
      "source": [
        "row=int(input(\"enter no of row\"))\n",
        "for i in range(row):\n",
        "  for f in range(i+1):\n",
        "    print(\"*\",end=\" \")\n",
        "  print()"
      ],
      "metadata": {
        "colab": {
          "base_uri": "https://localhost:8080/"
        },
        "id": "s7y1-nAu0NYU",
        "outputId": "386511c3-b3de-4ac2-c365-348f31f4b4c7"
      },
      "execution_count": null,
      "outputs": [
        {
          "output_type": "stream",
          "name": "stdout",
          "text": [
            "enter no of row5\n",
            "* \n",
            "* * \n",
            "* * * \n",
            "* * * * \n",
            "* * * * * \n"
          ]
        }
      ]
    },
    {
      "cell_type": "code",
      "source": [
        "row=int(input(\"enter number\"))\n",
        "for i in range(row):\n",
        "\n",
        "  for f in range(row):\n",
        "    print(\"*\",end=\" \")\n",
        "  print()\n",
        "\n"
      ],
      "metadata": {
        "colab": {
          "base_uri": "https://localhost:8080/"
        },
        "id": "IGTvb48N7Zfr",
        "outputId": "84c71eaa-0e44-47b1-a96c-ac8531e77d82"
      },
      "execution_count": null,
      "outputs": [
        {
          "output_type": "stream",
          "name": "stdout",
          "text": [
            "enter number5\n",
            "* * * * * \n",
            "* * * * * \n",
            "* * * * * \n",
            "* * * * * \n",
            "* * * * * \n"
          ]
        }
      ]
    },
    {
      "cell_type": "code",
      "source": [
        "row=int(input(\"enter row\"))\n",
        "for i in range(row+1):\n",
        "  for f in range(1,i+1):\n",
        "    print(f,end=\" \")\n",
        "  print()\n"
      ],
      "metadata": {
        "colab": {
          "base_uri": "https://localhost:8080/"
        },
        "id": "RnyNzWIX-toP",
        "outputId": "4e61be6f-f307-46e7-f46e-394ca0e68efe"
      },
      "execution_count": null,
      "outputs": [
        {
          "output_type": "stream",
          "name": "stdout",
          "text": [
            "enter row5\n",
            "\n",
            "1 \n",
            "1 2 \n",
            "1 2 3 \n",
            "1 2 3 4 \n",
            "1 2 3 4 5 \n"
          ]
        }
      ]
    },
    {
      "cell_type": "code",
      "source": [
        "row=int(input(\"enter rows\"))\n",
        "num=1\n",
        "for i in range(row+1):\n",
        "  for i in range(1,i+1):\n",
        "    print(num,end=\" \")\n",
        "    num=num+1\n",
        "  print()"
      ],
      "metadata": {
        "colab": {
          "base_uri": "https://localhost:8080/"
        },
        "id": "ta_D0rxJEgrg",
        "outputId": "a65bbe03-59b1-4b16-84e7-8043437f3f75"
      },
      "execution_count": null,
      "outputs": [
        {
          "output_type": "stream",
          "name": "stdout",
          "text": [
            "enter rows5\n",
            "\n",
            "1 \n",
            "2 3 \n",
            "4 5 6 \n",
            "7 8 9 10 \n",
            "11 12 13 14 15 \n"
          ]
        }
      ]
    },
    {
      "cell_type": "code",
      "source": [
        "row=int(input(\"enter rows\"))\n",
        "for i in range(row,0,-1):\n",
        "  for f in range(1,i+1):\n",
        "    print(\"*\",end=\" \")\n",
        "  print()\n"
      ],
      "metadata": {
        "colab": {
          "base_uri": "https://localhost:8080/"
        },
        "id": "V9n1fEEIGOZO",
        "outputId": "fd749bd5-2a43-48f4-d01f-161e33d91afb"
      },
      "execution_count": null,
      "outputs": [
        {
          "output_type": "stream",
          "name": "stdout",
          "text": [
            "enter rows5\n",
            "* * * * * \n",
            "* * * * \n",
            "* * * \n",
            "* * \n",
            "* \n"
          ]
        }
      ]
    },
    {
      "cell_type": "markdown",
      "source": [
        "string"
      ],
      "metadata": {
        "id": "rSKFA5S-RI-2"
      }
    },
    {
      "cell_type": "code",
      "source": [
        "a=\"python programming\"\n",
        "type (a)\n",
        "a[1]\n",
        "a[5]\n",
        "a[8]\n",
        "a[6]\n",
        "a[3]\n",
        "a[-5]\n",
        "a[-3]"
      ],
      "metadata": {
        "colab": {
          "base_uri": "https://localhost:8080/"
        },
        "id": "2AaA3CO7RLPV",
        "outputId": "d8aa7837-bb12-4207-f276-6500f746e6b9"
      },
      "execution_count": null,
      "outputs": [
        {
          "output_type": "execute_result",
          "data": {
            "text/plain": [
              "[-4]"
            ]
          },
          "metadata": {},
          "execution_count": 111
        }
      ]
    }
  ]
}