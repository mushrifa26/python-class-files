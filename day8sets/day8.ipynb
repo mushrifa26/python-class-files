{
  "nbformat": 4,
  "nbformat_minor": 0,
  "metadata": {
    "colab": {
      "provenance": [],
      "authorship_tag": "ABX9TyNhPZQYj2VzbB6/VjOnuWCS",
      "include_colab_link": true
    },
    "kernelspec": {
      "name": "python3",
      "display_name": "Python 3"
    },
    "language_info": {
      "name": "python"
    }
  },
  "cells": [
    {
      "cell_type": "markdown",
      "metadata": {
        "id": "view-in-github",
        "colab_type": "text"
      },
      "source": [
        "<a href=\"https://colab.research.google.com/github/mushrifa26/python-class-files/blob/main/day8sets/day8.ipynb\" target=\"_parent\"><img src=\"https://colab.research.google.com/assets/colab-badge.svg\" alt=\"Open In Colab\"/></a>"
      ]
    },
    {
      "cell_type": "code",
      "source": [
        "a=3\n",
        "b=7\n",
        "a,b=b,a\n",
        "a"
      ],
      "metadata": {
        "colab": {
          "base_uri": "https://localhost:8080/"
        },
        "id": "Samaj9_Gs23x",
        "outputId": "0398e542-ad96-4e16-8211-3816b2eb0b9f"
      },
      "execution_count": null,
      "outputs": [
        {
          "output_type": "execute_result",
          "data": {
            "text/plain": [
              "7"
            ]
          },
          "metadata": {},
          "execution_count": 1
        }
      ]
    },
    {
      "cell_type": "markdown",
      "source": [
        "sets"
      ],
      "metadata": {
        "id": "w28K8Bjhs2fn"
      }
    },
    {
      "cell_type": "code",
      "execution_count": null,
      "metadata": {
        "colab": {
          "base_uri": "https://localhost:8080/"
        },
        "id": "_4aQTr3Psxxd",
        "outputId": "0d8b9368-ffaf-42b6-89e0-b2a9f5b15a36"
      },
      "outputs": [
        {
          "output_type": "execute_result",
          "data": {
            "text/plain": [
              "{3, 7, 12, 45}"
            ]
          },
          "metadata": {},
          "execution_count": 3
        }
      ],
      "source": [
        "set1={1,2,3,4,}\n",
        "type(set1)\n",
        "set2={12,3,45,7,45}\n",
        "set2"
      ]
    },
    {
      "cell_type": "code",
      "source": [
        "s=set()\n",
        "k={1,2,3}\n",
        "type(k)\n",
        "i=set([1,2,3])\n",
        "i"
      ],
      "metadata": {
        "colab": {
          "base_uri": "https://localhost:8080/"
        },
        "id": "wiv0YQa3wYIW",
        "outputId": "ac7266e9-dc7c-465b-d56a-16e1bd10fb44"
      },
      "execution_count": null,
      "outputs": [
        {
          "output_type": "execute_result",
          "data": {
            "text/plain": [
              "{1, 2, 3}"
            ]
          },
          "metadata": {},
          "execution_count": 6
        }
      ]
    },
    {
      "cell_type": "code",
      "source": [
        "list1=list(eval(input(\"enter list\")))\n",
        "resultlist=[]\n",
        "for i in list1:\n",
        "  if i not in resultlist:\n",
        "    resultlist.append(i)\n",
        "print(resultlist)"
      ],
      "metadata": {
        "colab": {
          "base_uri": "https://localhost:8080/"
        },
        "id": "Y6Gj930kyG73",
        "outputId": "b455257c-8325-47f7-e152-b615fe1133f7"
      },
      "execution_count": null,
      "outputs": [
        {
          "output_type": "stream",
          "name": "stdout",
          "text": [
            "enter list45,76,98\n",
            "[45, 76, 98]\n"
          ]
        }
      ]
    },
    {
      "cell_type": "code",
      "source": [
        "resultlist=list(set(list1))\n",
        "print(resultlist)"
      ],
      "metadata": {
        "colab": {
          "base_uri": "https://localhost:8080/"
        },
        "id": "AgEAXNwNygih",
        "outputId": "dca2958c-0db7-4861-e402-de3af1b5be74"
      },
      "execution_count": null,
      "outputs": [
        {
          "output_type": "stream",
          "name": "stdout",
          "text": [
            "[98, 43, 76]\n"
          ]
        }
      ]
    },
    {
      "cell_type": "code",
      "source": [
        "mixedset={1,\"python\",3.5}\n",
        "print(mixedset)"
      ],
      "metadata": {
        "colab": {
          "base_uri": "https://localhost:8080/"
        },
        "id": "2zfBfDevzLDz",
        "outputId": "90e9ecf2-95ff-46ee-9972-a07a3af80c2e"
      },
      "execution_count": null,
      "outputs": [
        {
          "output_type": "stream",
          "name": "stdout",
          "text": [
            "{1, 3.5, 'python'}\n"
          ]
        }
      ]
    },
    {
      "cell_type": "markdown",
      "source": [
        "union operation"
      ],
      "metadata": {
        "id": "kT2NZ3SI4ZB-"
      }
    },
    {
      "cell_type": "code",
      "source": [
        "set1={1,2,4}\n",
        "set2={4,5,6}\n",
        "set1.union(set2)\n",
        "set1|set2\n"
      ],
      "metadata": {
        "colab": {
          "base_uri": "https://localhost:8080/"
        },
        "id": "fzo5u-5u4b_A",
        "outputId": "d2ab6b7e-1368-4fd1-b19c-177dad26bc3f"
      },
      "execution_count": null,
      "outputs": [
        {
          "output_type": "execute_result",
          "data": {
            "text/plain": [
              "{1, 2, 4, 5, 6}"
            ]
          },
          "metadata": {},
          "execution_count": 12
        }
      ]
    },
    {
      "cell_type": "markdown",
      "source": [
        "intersection operation"
      ],
      "metadata": {
        "id": "Cu8kWa7h4Y7J"
      }
    },
    {
      "cell_type": "code",
      "source": [
        "set1.intersection(set2)\n",
        "set1&set2"
      ],
      "metadata": {
        "colab": {
          "base_uri": "https://localhost:8080/"
        },
        "id": "CRV3qrNa5YkF",
        "outputId": "f0bf648a-dc54-440e-91cf-1b3a8ca32824"
      },
      "execution_count": null,
      "outputs": [
        {
          "output_type": "execute_result",
          "data": {
            "text/plain": [
              "{4}"
            ]
          },
          "metadata": {},
          "execution_count": 15
        }
      ]
    },
    {
      "cell_type": "markdown",
      "source": [
        "difference operation"
      ],
      "metadata": {
        "id": "PFKGx-YE566a"
      }
    },
    {
      "cell_type": "code",
      "source": [
        "set1-set2\n",
        "set1.difference(set2)"
      ],
      "metadata": {
        "colab": {
          "base_uri": "https://localhost:8080/"
        },
        "id": "zrdkzP-j6BNY",
        "outputId": "b191e1d4-f447-4c41-dccd-bb73b8fb1e0d"
      },
      "execution_count": null,
      "outputs": [
        {
          "output_type": "execute_result",
          "data": {
            "text/plain": [
              "{1, 2}"
            ]
          },
          "metadata": {},
          "execution_count": 18
        }
      ]
    },
    {
      "cell_type": "code",
      "source": [
        "set1^set2\n",
        "set1.symmetric_difference(set2)"
      ],
      "metadata": {
        "colab": {
          "base_uri": "https://localhost:8080/"
        },
        "id": "exiXU9gF6vKq",
        "outputId": "b5e0cb64-fe40-4027-ba51-5910894aa57a"
      },
      "execution_count": null,
      "outputs": [
        {
          "output_type": "execute_result",
          "data": {
            "text/plain": [
              "{1, 2, 5, 6}"
            ]
          },
          "metadata": {},
          "execution_count": 22
        }
      ]
    },
    {
      "cell_type": "markdown",
      "source": [
        "commmon set method"
      ],
      "metadata": {
        "id": "gTiyJKW47rXT"
      }
    },
    {
      "cell_type": "code",
      "source": [
        "#add method\n",
        "set1.add(5)\n",
        "set1\n",
        "id(set1)\n",
        "set1.add(78)\n",
        "set1\n",
        "id(set1)"
      ],
      "metadata": {
        "colab": {
          "base_uri": "https://localhost:8080/"
        },
        "id": "mfuFWddX7uov",
        "outputId": "043b321c-29c3-4e5e-82ee-0b7baf137a48"
      },
      "execution_count": null,
      "outputs": [
        {
          "output_type": "execute_result",
          "data": {
            "text/plain": [
              "137727627225664"
            ]
          },
          "metadata": {},
          "execution_count": 27
        }
      ]
    },
    {
      "cell_type": "code",
      "source": [
        "#discard\n",
        "set1.discard(2)\n",
        "set1\n",
        "set1.discard(6)\n",
        "set1"
      ],
      "metadata": {
        "colab": {
          "base_uri": "https://localhost:8080/"
        },
        "id": "lhOlimXK8eXS",
        "outputId": "f8583817-0a3b-4fd2-cfef-541779dd7c32"
      },
      "execution_count": null,
      "outputs": [
        {
          "output_type": "execute_result",
          "data": {
            "text/plain": [
              "{1, 4, 78}"
            ]
          },
          "metadata": {},
          "execution_count": 31
        }
      ]
    },
    {
      "cell_type": "code",
      "source": [
        "#pop\n",
        "set1.pop()\n",
        "set1\n"
      ],
      "metadata": {
        "colab": {
          "base_uri": "https://localhost:8080/"
        },
        "id": "MlogTN0-80Sb",
        "outputId": "699d029f-1c71-4b94-b8b2-0606eafbd12d"
      },
      "execution_count": null,
      "outputs": [
        {
          "output_type": "execute_result",
          "data": {
            "text/plain": [
              "{4, 78}"
            ]
          },
          "metadata": {},
          "execution_count": 32
        }
      ]
    },
    {
      "cell_type": "code",
      "source": [
        "#clear\n",
        "set1.clear()\n",
        "set1"
      ],
      "metadata": {
        "colab": {
          "base_uri": "https://localhost:8080/"
        },
        "id": "Md_Slr329E2X",
        "outputId": "44f363a9-67ff-49df-f9cd-4723f774b41b"
      },
      "execution_count": null,
      "outputs": [
        {
          "output_type": "execute_result",
          "data": {
            "text/plain": [
              "set()"
            ]
          },
          "metadata": {},
          "execution_count": 33
        }
      ]
    },
    {
      "cell_type": "code",
      "source": [
        "s=frozenset({1,3,5,8})\n",
        "id(s)\n",
        "s.union({7})\n",
        "id(s.union({7}))\n",
        "s.union({7})\n"
      ],
      "metadata": {
        "colab": {
          "base_uri": "https://localhost:8080/"
        },
        "id": "ZxpKItFk9uRK",
        "outputId": "f549c6b4-2c5c-412b-a4fb-88329e5f368e"
      },
      "execution_count": null,
      "outputs": [
        {
          "output_type": "execute_result",
          "data": {
            "text/plain": [
              "frozenset({1, 3, 5, 7, 8})"
            ]
          },
          "metadata": {},
          "execution_count": 38
        }
      ]
    },
    {
      "cell_type": "markdown",
      "source": [
        "dictionary"
      ],
      "metadata": {
        "id": "StuTl3XUAjrV"
      }
    },
    {
      "cell_type": "code",
      "source": [
        "dict1={}\n",
        "type(dict1)\n",
        "dict2=dict()\n",
        "type(dict2)"
      ],
      "metadata": {
        "colab": {
          "base_uri": "https://localhost:8080/"
        },
        "id": "DSxopuOXAl8Z",
        "outputId": "0ca7e833-134a-4cf6-9dbb-042596c95c3c"
      },
      "execution_count": null,
      "outputs": [
        {
          "output_type": "execute_result",
          "data": {
            "text/plain": [
              "dict"
            ]
          },
          "metadata": {},
          "execution_count": 40
        }
      ]
    },
    {
      "cell_type": "code",
      "source": [
        "dict1={\"A\":\"Apple\",\"b\": \"ball\",\"c\": \"car\", \"d\": \"dog\"}\n",
        "dict1\n",
        "print(dict1[\"A\"])\n",
        "dict1[\"A\"]=\"ant\"\n",
        "print(dict1[\"A\"])\n",
        "dict1"
      ],
      "metadata": {
        "colab": {
          "base_uri": "https://localhost:8080/"
        },
        "id": "hOmSaBwRBYq7",
        "outputId": "44231683-ed41-422d-9fa1-508cefbfbdaf"
      },
      "execution_count": null,
      "outputs": [
        {
          "output_type": "stream",
          "name": "stdout",
          "text": [
            "Apple\n",
            "ant\n"
          ]
        },
        {
          "output_type": "execute_result",
          "data": {
            "text/plain": [
              "{'A': 'ant', 'b': 'ball', 'c': 'car', 'd': 'dog'}"
            ]
          },
          "metadata": {},
          "execution_count": 46
        }
      ]
    },
    {
      "cell_type": "code",
      "source": [
        "dict2={1:\"apple\",2:\"number\",7:89, (4,8,9):\"tree\"}\n",
        "dict2\n",
        "print(dict2[(4,8,9)])"
      ],
      "metadata": {
        "colab": {
          "base_uri": "https://localhost:8080/"
        },
        "id": "nisidWOXDNi3",
        "outputId": "b9a0483e-bdc8-42c3-a6de-3b413ff3bdf6"
      },
      "execution_count": null,
      "outputs": [
        {
          "output_type": "stream",
          "name": "stdout",
          "text": [
            "tree\n"
          ]
        }
      ]
    },
    {
      "cell_type": "code",
      "source": [
        "emptydict={}\n",
        "emptydict[\"a\"]=\"apple\"\n",
        "emptydict\n",
        "emptydict[(1,23)]=\"one\"\n",
        "emptydict"
      ],
      "metadata": {
        "colab": {
          "base_uri": "https://localhost:8080/"
        },
        "id": "Tfl0xzYcFX2l",
        "outputId": "05e48870-6dd0-4157-805a-ac59b84326cd"
      },
      "execution_count": null,
      "outputs": [
        {
          "output_type": "execute_result",
          "data": {
            "text/plain": [
              "{'a': 'apple', (1, 23): 'one'}"
            ]
          },
          "metadata": {},
          "execution_count": 50
        }
      ]
    },
    {
      "cell_type": "markdown",
      "source": [
        "using get method"
      ],
      "metadata": {
        "id": "yujNrQuuGgCB"
      }
    },
    {
      "cell_type": "markdown",
      "source": [
        "dict keys"
      ],
      "metadata": {
        "id": "exPaiNnYHXgf"
      }
    },
    {
      "cell_type": "code",
      "source": [
        "dict1\n",
        "dict1.keys()"
      ],
      "metadata": {
        "colab": {
          "base_uri": "https://localhost:8080/"
        },
        "id": "kO0xUGy9HZhp",
        "outputId": "b11ac2e3-9fe4-4638-8f39-ee7c7e99961f"
      },
      "execution_count": null,
      "outputs": [
        {
          "output_type": "execute_result",
          "data": {
            "text/plain": [
              "dict_keys(['A', 'b', 'c', 'd'])"
            ]
          },
          "metadata": {},
          "execution_count": 55
        }
      ]
    },
    {
      "cell_type": "markdown",
      "source": [
        "set alternation"
      ],
      "metadata": {
        "id": "P5ebqbDbIQoa"
      }
    },
    {
      "cell_type": "code",
      "source": [
        "set1={1,3,6,8,9}\n",
        "for i in set1:\n",
        "  print(i)"
      ],
      "metadata": {
        "colab": {
          "base_uri": "https://localhost:8080/"
        },
        "id": "v-dDld1aHka4",
        "outputId": "189753ad-c330-4921-f45a-d84e503a6bf6"
      },
      "execution_count": null,
      "outputs": [
        {
          "output_type": "stream",
          "name": "stdout",
          "text": [
            "1\n",
            "3\n",
            "6\n",
            "8\n",
            "9\n"
          ]
        }
      ]
    },
    {
      "cell_type": "markdown",
      "source": [
        "dictionary alternation"
      ],
      "metadata": {
        "id": "2OLVZJy6IM2x"
      }
    },
    {
      "cell_type": "code",
      "source": [
        "dict1\n",
        "for i in dict1:\n",
        "  print(i,dict1[i])"
      ],
      "metadata": {
        "colab": {
          "base_uri": "https://localhost:8080/"
        },
        "id": "-mIIXhOpHkGe",
        "outputId": "a48b75c6-cfb7-429b-c46c-343575615e2c"
      },
      "execution_count": null,
      "outputs": [
        {
          "output_type": "stream",
          "name": "stdout",
          "text": [
            "A ant\n",
            "b ball\n",
            "c car\n",
            "d dog\n"
          ]
        }
      ]
    },
    {
      "cell_type": "code",
      "source": [
        "dict1.values()\n",
        "dict1.items()"
      ],
      "metadata": {
        "colab": {
          "base_uri": "https://localhost:8080/"
        },
        "id": "mtIR_W5-IZUQ",
        "outputId": "d20acf9d-1f49-4936-d7fe-a9dfa25406fd"
      },
      "execution_count": null,
      "outputs": [
        {
          "output_type": "execute_result",
          "data": {
            "text/plain": [
              "dict_items([('A', 'ant'), ('b', 'ball'), ('c', 'car'), ('d', 'dog')])"
            ]
          },
          "metadata": {},
          "execution_count": 61
        }
      ]
    },
    {
      "cell_type": "code",
      "source": [
        "dict1\n",
        "for i in dict1.items():\n",
        "  print(i)"
      ],
      "metadata": {
        "colab": {
          "base_uri": "https://localhost:8080/"
        },
        "id": "94ax4VCRJAaw",
        "outputId": "5dd68863-d018-48b2-ab5a-ecb834473988"
      },
      "execution_count": null,
      "outputs": [
        {
          "output_type": "stream",
          "name": "stdout",
          "text": [
            "('A', 'ant')\n",
            "('b', 'ball')\n",
            "('c', 'car')\n",
            "('d', 'dog')\n"
          ]
        }
      ]
    },
    {
      "cell_type": "code",
      "source": [
        "for i,j in dict1.items():\n",
        "  print(i,j)"
      ],
      "metadata": {
        "colab": {
          "base_uri": "https://localhost:8080/"
        },
        "id": "KJtpMyEnJra3",
        "outputId": "ce8db9d2-7732-486c-b772-5dc7d964d327"
      },
      "execution_count": null,
      "outputs": [
        {
          "output_type": "stream",
          "name": "stdout",
          "text": [
            "A ant\n",
            "b ball\n",
            "c car\n",
            "d dog\n"
          ]
        }
      ]
    },
    {
      "cell_type": "code",
      "source": [
        "num=int(input(\"enter number\"))\n",
        "comwin={}\n",
        "for i in range(num):\n",
        "  key=input(\"enter students name\")\n",
        "  value=int(input(\"enter wins\"))\n",
        "  comwin[key]=value\n",
        "print(comwin)"
      ],
      "metadata": {
        "id": "gDmsnBRWKALF",
        "colab": {
          "base_uri": "https://localhost:8080/"
        },
        "outputId": "6a68996a-8ae7-4148-b4c3-1ec1d0477331"
      },
      "execution_count": null,
      "outputs": [
        {
          "output_type": "stream",
          "name": "stdout",
          "text": [
            "enter number5\n",
            "enter students nameh\n",
            "enter wins6\n",
            "enter students namehi\n",
            "enter wins8\n",
            "enter students namem\n",
            "enter wins6\n",
            "enter students nameb\n",
            "enter wins4\n",
            "enter students namec\n",
            "enter wins0\n",
            "{'h': 6, 'hi': 8, 'm': 6, 'b': 4, 'c': 0}\n"
          ]
        }
      ]
    },
    {
      "cell_type": "markdown",
      "source": [
        "delete"
      ],
      "metadata": {
        "id": "82iPFRGnNwRa"
      }
    },
    {
      "cell_type": "code",
      "source": [
        "dict1\n",
        "del dict1[\"d\"]\n",
        "dict1\n"
      ],
      "metadata": {
        "colab": {
          "base_uri": "https://localhost:8080/"
        },
        "id": "X8OYObJgNvoJ",
        "outputId": "ab7e5266-584f-4c5a-f21f-2bc6f20a10cb"
      },
      "execution_count": null,
      "outputs": [
        {
          "output_type": "execute_result",
          "data": {
            "text/plain": [
              "{}"
            ]
          },
          "metadata": {},
          "execution_count": 84
        }
      ]
    },
    {
      "cell_type": "code",
      "source": [
        "dict1={1:\"one\",2:\"two\",3:\"three\"}\n",
        "dict1.pop(3)\n",
        "dict1\n",
        "\n",
        "dict1.pop(3,\"not found\")"
      ],
      "metadata": {
        "colab": {
          "base_uri": "https://localhost:8080/",
          "height": 36
        },
        "id": "5pqQOusjPBxw",
        "outputId": "73556240-3bc3-4d0f-b815-7a97aafdc796"
      },
      "execution_count": null,
      "outputs": [
        {
          "output_type": "execute_result",
          "data": {
            "text/plain": [
              "'not found'"
            ],
            "application/vnd.google.colaboratory.intrinsic+json": {
              "type": "string"
            }
          },
          "metadata": {},
          "execution_count": 90
        }
      ]
    },
    {
      "cell_type": "markdown",
      "source": [
        "update method"
      ],
      "metadata": {
        "id": "bF3-K3YZQTEq"
      }
    },
    {
      "cell_type": "code",
      "source": [
        "employee1={\"name\":\"mushrifa\",\"salary\":500000,\"age\":21}\n",
        "employee2={\"name\":\"shifa\",\"salary\":100000,\"company\":\"google\"}\n",
        "employee1.update(employee2)\n",
        "employee1"
      ],
      "metadata": {
        "colab": {
          "base_uri": "https://localhost:8080/"
        },
        "id": "T_mdXBwWQQJh",
        "outputId": "4fd8e3bd-1bbb-4047-88fb-b49c1a1aab8e"
      },
      "execution_count": null,
      "outputs": [
        {
          "output_type": "execute_result",
          "data": {
            "text/plain": [
              "{'name': 'shifa', 'salary': 100000, 'age': 21, 'company': 'google'}"
            ]
          },
          "metadata": {},
          "execution_count": 91
        }
      ]
    },
    {
      "cell_type": "code",
      "source": [
        "info={\"name\":\"mushrifa\",\"age\":'21',\"salary\":50000}\n",
        "val=input(\"enter value\")\n",
        "if val in info.values():\n",
        "  for i in info:\n",
        "    if info[i]==val:\n",
        "      print(i)\n",
        "else:\n",
        "  print(\"value not in dictionary\")\n"
      ],
      "metadata": {
        "colab": {
          "base_uri": "https://localhost:8080/"
        },
        "id": "7K_vq4sLVIOI",
        "outputId": "9b8bbba1-880d-4947-e748-2e498930502b"
      },
      "execution_count": null,
      "outputs": [
        {
          "output_type": "stream",
          "name": "stdout",
          "text": [
            "enter value21\n",
            "age\n"
          ]
        }
      ]
    }
  ]
}