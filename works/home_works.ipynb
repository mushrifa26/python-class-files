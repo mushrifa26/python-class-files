{
  "cells": [
    {
      "cell_type": "markdown",
      "metadata": {
        "id": "view-in-github",
        "colab_type": "text"
      },
      "source": [
        "<a href=\"https://colab.research.google.com/github/mushrifa26/python-class-files/blob/main/works/home_works.ipynb\" target=\"_parent\"><img src=\"https://colab.research.google.com/assets/colab-badge.svg\" alt=\"Open In Colab\"/></a>"
      ]
    },
    {
      "cell_type": "markdown",
      "metadata": {
        "id": "z0Hcu-ddZbAB"
      },
      "source": []
    },
    {
      "cell_type": "markdown",
      "metadata": {
        "id": "CuSJSiIrZg9h"
      },
      "source": [
        "profit or loss"
      ]
    },
    {
      "cell_type": "code",
      "execution_count": null,
      "metadata": {
        "colab": {
          "base_uri": "https://localhost:8080/"
        },
        "id": "gmN2lYC8ZjxG",
        "outputId": "71199bed-afcb-4688-8bd7-269ac9985f25"
      },
      "outputs": [
        {
          "name": "stdout",
          "output_type": "stream",
          "text": [
            "cost price25000\n",
            "selling price40000\n",
            "profit\n"
          ]
        }
      ],
      "source": [
        "costprice=int(input(\"cost price\"))\n",
        "sellingprice=int(input(\"selling price\"))\n",
        "if sellingprice>costprice:\n",
        "  print(\"profit\")\n",
        "else:\n",
        "  print(\"loss\")"
      ]
    },
    {
      "cell_type": "markdown",
      "metadata": {
        "id": "PwV_C2G-aXO5"
      },
      "source": [
        "loan eligibility:"
      ]
    },
    {
      "cell_type": "code",
      "execution_count": null,
      "metadata": {
        "colab": {
          "base_uri": "https://localhost:8080/"
        },
        "id": "QZIpuFikbf-9",
        "outputId": "388022f3-9a65-43c1-9771-ba8834955038"
      },
      "outputs": [
        {
          "name": "stdout",
          "output_type": "stream",
          "text": [
            "monthlyincome20000\n",
            "not eligible for loan\n"
          ]
        }
      ],
      "source": [
        "monthlyincome=int(input(\"monthlyincome\"))\n",
        "if monthlyincome>25000:\n",
        "  print(\"eligible for loan\")\n",
        "else:\n",
        "  print(\"not eligible for loan\")"
      ]
    },
    {
      "cell_type": "markdown",
      "metadata": {
        "id": "gR93ZwbZcA7r"
      },
      "source": [
        "vowels or not"
      ]
    },
    {
      "cell_type": "code",
      "execution_count": null,
      "metadata": {
        "colab": {
          "base_uri": "https://localhost:8080/"
        },
        "id": "eWbUATA3cdX1",
        "outputId": "98bcead2-225d-4fbc-9c0c-c89550499897"
      },
      "outputs": [
        {
          "name": "stdout",
          "output_type": "stream",
          "text": [
            "enter characterc\n",
            "not vowels\n"
          ]
        }
      ],
      "source": [
        "vowel=input(\"enter character\")\n",
        "if vowel==\"a\":\n",
        "  print(\"vowels\")\n",
        "elif vowel==\"e\":\n",
        "  print(\"vowel\")\n",
        "elif vowel==\"i\":\n",
        "  print(\"vowel\")\n",
        "elif vowel==\"o\":\n",
        "  print(\"vowel\")\n",
        "elif vowel==\"u\":\n",
        "  print(\"vowel\")\n",
        "else:\n",
        "  print(\"not vowels\")"
      ]
    },
    {
      "cell_type": "markdown",
      "metadata": {
        "id": "gmbnsWFNhY0c"
      },
      "source": [
        "day of the week"
      ]
    },
    {
      "cell_type": "code",
      "execution_count": null,
      "metadata": {
        "colab": {
          "base_uri": "https://localhost:8080/"
        },
        "id": "6ctoKTFejGCQ",
        "outputId": "eae3163f-20f5-4f3e-d2a7-ca869327faf6"
      },
      "outputs": [
        {
          "name": "stdout",
          "output_type": "stream",
          "text": [
            "enter number7\n",
            "saturday\n"
          ]
        }
      ],
      "source": [
        "number=int(input(\"enter number\"))\n",
        "if number==1:\n",
        "  print(\"sunday\")\n",
        "elif number==2:\n",
        "  print(\"monday\")\n",
        "elif number==3:\n",
        "  print(\"tuesday\")\n",
        "elif number==4:\n",
        "  print(\"wednesday\")\n",
        "elif number==5:\n",
        "  print(\"thursday\")\n",
        "elif number==6:\n",
        "  print(\"friday\")\n",
        "elif number==7:\n",
        "  print(\"saturday\")\n",
        "else:\n",
        "  print(\"invalid\")"
      ]
    },
    {
      "cell_type": "markdown",
      "metadata": {
        "id": "10bhA5v1nGM3"
      },
      "source": [
        "print"
      ]
    },
    {
      "cell_type": "code",
      "execution_count": null,
      "metadata": {
        "colab": {
          "base_uri": "https://localhost:8080/"
        },
        "id": "07f6fBjXnKLm",
        "outputId": "bafa6809-8777-4ba3-d68c-578de813d565"
      },
      "outputs": [
        {
          "name": "stdout",
          "output_type": "stream",
          "text": [
            "result 3628800\n"
          ]
        }
      ],
      "source": [
        "result=1\n",
        "a=1\n",
        "while a<=10:\n",
        "  result=result*a\n",
        "  a=a+1\n",
        "print(\"result\",result)"
      ]
    },
    {
      "cell_type": "markdown",
      "metadata": {
        "id": "pFgQaxOxoC-e"
      },
      "source": [
        "hello"
      ]
    },
    {
      "cell_type": "code",
      "execution_count": null,
      "metadata": {
        "colab": {
          "base_uri": "https://localhost:8080/"
        },
        "id": "hXRDbZeZoFgW",
        "outputId": "447e5547-75b9-4bc2-e6bf-2722451f5816"
      },
      "outputs": [
        {
          "name": "stdout",
          "output_type": "stream",
          "text": [
            "hello\n",
            "hello\n",
            "hello\n"
          ]
        }
      ],
      "source": [
        "a=1\n",
        "while a<=3:\n",
        "  print(\"hello\")\n",
        "  a=a+1"
      ]
    },
    {
      "cell_type": "markdown",
      "metadata": {
        "id": "AT32oBqQohRm"
      },
      "source": [
        "50 - 100"
      ]
    },
    {
      "cell_type": "code",
      "execution_count": null,
      "metadata": {
        "colab": {
          "base_uri": "https://localhost:8080/"
        },
        "id": "wdJE6TuAojgb",
        "outputId": "dfc1b2b2-0000-4517-a83d-2a0afe89afd1"
      },
      "outputs": [
        {
          "name": "stdout",
          "output_type": "stream",
          "text": [
            "50\n",
            "51\n",
            "52\n",
            "53\n",
            "54\n",
            "55\n",
            "56\n",
            "57\n",
            "58\n",
            "59\n",
            "60\n",
            "61\n",
            "62\n",
            "63\n",
            "64\n",
            "65\n",
            "66\n",
            "67\n",
            "68\n",
            "69\n",
            "70\n",
            "71\n",
            "72\n",
            "73\n",
            "74\n",
            "75\n",
            "76\n",
            "77\n",
            "78\n",
            "79\n",
            "80\n",
            "81\n",
            "82\n",
            "83\n",
            "84\n",
            "85\n",
            "86\n",
            "87\n",
            "88\n",
            "89\n",
            "90\n",
            "91\n",
            "92\n",
            "93\n",
            "94\n",
            "95\n",
            "96\n",
            "97\n",
            "98\n",
            "99\n",
            "100\n"
          ]
        }
      ],
      "source": [
        "a=50\n",
        "while a<=100:\n",
        "  print(a)\n",
        "  a=a+1"
      ]
    },
    {
      "cell_type": "markdown",
      "metadata": {
        "id": "j3agf97ZzhVU"
      },
      "source": [
        "sum"
      ]
    },
    {
      "cell_type": "code",
      "execution_count": null,
      "metadata": {
        "colab": {
          "base_uri": "https://localhost:8080/"
        },
        "collapsed": true,
        "id": "TYJmdr4DzinN",
        "outputId": "34a07c82-aa79-48d3-e307-ed6d54dbe046"
      },
      "outputs": [
        {
          "output_type": "stream",
          "name": "stdout",
          "text": [
            "sum= 0\n",
            "sum= 1\n",
            "sum= 3\n",
            "sum= 6\n",
            "sum= 10\n",
            "sum= 15\n",
            "sum= 21\n",
            "sum= 28\n",
            "sum= 36\n",
            "sum= 45\n",
            "sum= 55\n",
            "sum= 66\n",
            "sum= 78\n",
            "sum= 91\n",
            "sum= 105\n",
            "sum= 120\n",
            "sum= 136\n",
            "sum= 153\n",
            "sum= 171\n",
            "sum= 190\n",
            "sum= 210\n",
            "sum= 231\n",
            "sum= 253\n",
            "sum= 276\n",
            "sum= 300\n",
            "sum= 325\n",
            "sum= 351\n",
            "sum= 378\n",
            "sum= 406\n",
            "sum= 435\n",
            "sum= 465\n",
            "sum= 496\n",
            "sum= 528\n",
            "sum= 561\n",
            "sum= 595\n",
            "sum= 630\n",
            "sum= 666\n",
            "sum= 703\n",
            "sum= 741\n",
            "sum= 780\n",
            "sum= 820\n",
            "sum= 861\n",
            "sum= 903\n",
            "sum= 946\n",
            "sum= 990\n",
            "sum= 1035\n",
            "sum= 1081\n",
            "sum= 1128\n",
            "sum= 1176\n",
            "sum= 1225\n",
            "sum= 1275\n",
            "sum= 1326\n",
            "sum= 1378\n",
            "sum= 1431\n",
            "sum= 1485\n",
            "sum= 1540\n",
            "sum= 1596\n",
            "sum= 1653\n",
            "sum= 1711\n",
            "sum= 1770\n",
            "sum= 1830\n",
            "sum= 1891\n",
            "sum= 1953\n",
            "sum= 2016\n",
            "sum= 2080\n",
            "sum= 2145\n",
            "sum= 2211\n",
            "sum= 2278\n",
            "sum= 2346\n",
            "sum= 2415\n",
            "sum= 2485\n",
            "sum= 2556\n",
            "sum= 2628\n",
            "sum= 2701\n",
            "sum= 2775\n",
            "sum= 2850\n",
            "sum= 2926\n",
            "sum= 3003\n",
            "sum= 3081\n",
            "sum= 3160\n",
            "sum= 3240\n",
            "sum= 3321\n",
            "sum= 3403\n",
            "sum= 3486\n",
            "sum= 3570\n",
            "sum= 3655\n",
            "sum= 3741\n",
            "sum= 3828\n",
            "sum= 3916\n",
            "sum= 4005\n",
            "sum= 4095\n",
            "sum= 4186\n",
            "sum= 4278\n",
            "sum= 4371\n",
            "sum= 4465\n",
            "sum= 4560\n",
            "sum= 4656\n",
            "sum= 4753\n",
            "sum= 4851\n",
            "sum= 4950\n",
            "sum= 5050\n"
          ]
        }
      ],
      "source": [
        "a=0\n",
        "sum=0\n",
        "while a<=100:\n",
        "  sum=sum+a\n",
        "  a=a+1\n",
        "  print(\"sum=\",sum)"
      ]
    },
    {
      "cell_type": "code",
      "execution_count": null,
      "metadata": {
        "colab": {
          "base_uri": "https://localhost:8080/"
        },
        "id": "SLaW_aOJ0TYi",
        "outputId": "5b753aee-0de9-49de-c4eb-2a26ea4e8799"
      },
      "outputs": [
        {
          "output_type": "stream",
          "name": "stdout",
          "text": [
            "sum= 5050\n"
          ]
        }
      ],
      "source": [
        "#a=0\n",
        "sum=0\n",
        "for i in range(1,101,1):\n",
        "  sum=sum+i\n",
        " # a=a+1\n",
        "print(\"sum=\",sum)"
      ]
    },
    {
      "cell_type": "markdown",
      "metadata": {
        "id": "KGHsRCo61gUE"
      },
      "source": [
        "divisible odd num"
      ]
    },
    {
      "cell_type": "code",
      "execution_count": null,
      "metadata": {
        "colab": {
          "base_uri": "https://localhost:8080/"
        },
        "id": "jQbMQqEj1jfP",
        "outputId": "73218d86-951b-45f4-f809-9541109fa8db"
      },
      "outputs": [
        {
          "output_type": "stream",
          "name": "stdout",
          "text": [
            "divisable= 3\n",
            "divisable= 6\n",
            "divisable= 9\n",
            "divisable= 12\n",
            "divisable= 15\n",
            "divisable= 18\n",
            "divisable= 21\n",
            "divisable= 24\n",
            "divisable= 27\n",
            "divisable= 30\n"
          ]
        }
      ],
      "source": [
        "\n",
        "for i in range(1,31,1):\n",
        "  if i%3==0:\n",
        "   print(\"divisable=\",i)"
      ]
    },
    {
      "cell_type": "markdown",
      "metadata": {
        "id": "cKUalpGB4dg8"
      },
      "source": [
        "cube"
      ]
    },
    {
      "cell_type": "code",
      "execution_count": null,
      "metadata": {
        "colab": {
          "base_uri": "https://localhost:8080/"
        },
        "id": "6UrLmw374f1U",
        "outputId": "462855c6-1fd0-4bdb-87ab-a10c8b2b6369"
      },
      "outputs": [
        {
          "output_type": "stream",
          "name": "stdout",
          "text": [
            "1\n",
            "8\n",
            "27\n",
            "64\n",
            "125\n"
          ]
        }
      ],
      "source": [
        "a=1\n",
        "while a<=5:\n",
        "  print(a**3)\n",
        "  a=a+1\n"
      ]
    },
    {
      "cell_type": "markdown",
      "metadata": {
        "id": "dleyfoHYpPeB"
      },
      "source": [
        "find product of digit"
      ]
    },
    {
      "cell_type": "code",
      "execution_count": null,
      "metadata": {
        "colab": {
          "base_uri": "https://localhost:8080/"
        },
        "id": "h-myTw9KpWq5",
        "outputId": "f128debf-de48-4e79-a58e-19ed0237da5b"
      },
      "outputs": [
        {
          "output_type": "stream",
          "name": "stdout",
          "text": [
            "enter number22\n",
            "product= 4\n"
          ]
        }
      ],
      "source": [
        "num=int(input(\"enter number\"))\n",
        "product=1\n",
        "while num>0:\n",
        "  digit=num%10\n",
        "  product=product*digit\n",
        "  num=num//10\n",
        "print(\"product=\",product)"
      ]
    },
    {
      "cell_type": "markdown",
      "source": [
        "sum of digits"
      ],
      "metadata": {
        "id": "A0SYNb3ldzQZ"
      }
    },
    {
      "cell_type": "code",
      "source": [
        "num=int(input(\"enter number : \"))\n",
        "sum=0\n",
        "while num>0:\n",
        "  digit=num%10\n",
        "  sum=sum+digit\n",
        "  num=num//10\n",
        "print(sum)\n"
      ],
      "metadata": {
        "colab": {
          "base_uri": "https://localhost:8080/"
        },
        "id": "EEnsEXagmwVb",
        "outputId": "3ab99649-6f94-4eae-d361-d35ccddf0689"
      },
      "execution_count": null,
      "outputs": [
        {
          "output_type": "stream",
          "name": "stdout",
          "text": [
            "enter number : 123\n",
            "6\n"
          ]
        }
      ]
    },
    {
      "cell_type": "markdown",
      "source": [
        "break"
      ],
      "metadata": {
        "id": "wRqb9kiWdwII"
      }
    },
    {
      "cell_type": "code",
      "source": [
        "i=0\n",
        "while i<=10:\n",
        "  i=i+1\n",
        "  if i==7:\n",
        "    break\n",
        "  print(i)"
      ],
      "metadata": {
        "id": "7vRHEqDmplgo",
        "colab": {
          "base_uri": "https://localhost:8080/"
        },
        "outputId": "576b3321-405e-4f45-b0de-85768f1b155e"
      },
      "execution_count": null,
      "outputs": [
        {
          "output_type": "stream",
          "name": "stdout",
          "text": [
            "1\n",
            "2\n",
            "3\n",
            "4\n",
            "5\n",
            "6\n"
          ]
        }
      ]
    },
    {
      "cell_type": "markdown",
      "source": [
        "day 4 works"
      ],
      "metadata": {
        "id": "R14KRpoVHEa2"
      }
    },
    {
      "cell_type": "code",
      "source": [
        "\n",
        "for i in range(5,0,-1):\n",
        "    for f in range(i,0,-1):\n",
        "      print(f,end=\" \")\n",
        "    print()"
      ],
      "metadata": {
        "colab": {
          "base_uri": "https://localhost:8080/"
        },
        "id": "b_68U3crHD43",
        "outputId": "3b8e0a30-9759-41ad-b78d-6cff60ae1260"
      },
      "execution_count": null,
      "outputs": [
        {
          "output_type": "stream",
          "name": "stdout",
          "text": [
            "5 4 3 2 1 \n",
            "4 3 2 1 \n",
            "3 2 1 \n",
            "2 1 \n",
            "1 \n"
          ]
        }
      ]
    },
    {
      "cell_type": "code",
      "source": [
        "for i in range(3,0,-1):\n",
        "  for j in range(3,0,-1):\n",
        "    print(j,end=\" \")\n",
        "  print()"
      ],
      "metadata": {
        "id": "fP9-3fT6NXUs",
        "colab": {
          "base_uri": "https://localhost:8080/"
        },
        "outputId": "4c823573-452b-42a7-966b-a8cc080d75a4"
      },
      "execution_count": null,
      "outputs": [
        {
          "output_type": "stream",
          "name": "stdout",
          "text": [
            "3 2 1 \n",
            "3 2 1 \n",
            "3 2 1 \n"
          ]
        }
      ]
    },
    {
      "cell_type": "code",
      "source": [
        "for i in range(1,4):\n",
        "  for j in range(3):\n",
        "    print(i,end=\" \")\n",
        "  print()"
      ],
      "metadata": {
        "colab": {
          "base_uri": "https://localhost:8080/"
        },
        "id": "EGZWZkRzfJKS",
        "outputId": "6b9fc2c2-9c40-42af-9499-5689d7698621"
      },
      "execution_count": null,
      "outputs": [
        {
          "output_type": "stream",
          "name": "stdout",
          "text": [
            "1 1 1 \n",
            "2 2 2 \n",
            "3 3 3 \n"
          ]
        }
      ]
    },
    {
      "cell_type": "code",
      "source": [
        "num=1\n",
        "for i in range(1,4):\n",
        "  for j in  range(1,i+1):\n",
        "    print(num,end=\" \")\n",
        "    num=num+2\n",
        "  print()"
      ],
      "metadata": {
        "colab": {
          "base_uri": "https://localhost:8080/"
        },
        "id": "HJh2FDD4hQNM",
        "outputId": "4d1667c5-f7fa-40d0-c54f-1b757fd29e68"
      },
      "execution_count": null,
      "outputs": [
        {
          "output_type": "stream",
          "name": "stdout",
          "text": [
            "1 \n",
            "3 5 \n",
            "7 9 11 \n"
          ]
        }
      ]
    },
    {
      "cell_type": "code",
      "source": [
        "num=2\n",
        "for i in range(1,4):\n",
        "  for j in range(1,i+1):\n",
        "    print(num,end=\" \")\n",
        "    num=num+2\n",
        "  print()"
      ],
      "metadata": {
        "colab": {
          "base_uri": "https://localhost:8080/"
        },
        "id": "d7UstjIDhagi",
        "outputId": "6eb536eb-19fa-41c8-a4c6-5399a88c17a7"
      },
      "execution_count": null,
      "outputs": [
        {
          "output_type": "stream",
          "name": "stdout",
          "text": [
            "2 \n",
            "4 6 \n",
            "8 10 12 \n"
          ]
        }
      ]
    },
    {
      "cell_type": "code",
      "source": [
        "num=3\n",
        "for i in range(1,4):\n",
        "  for j in range(1,4):\n",
        "    print(num*j,end=\" \")\n",
        "  print()"
      ],
      "metadata": {
        "colab": {
          "base_uri": "https://localhost:8080/"
        },
        "id": "PHoV5zzukMRq",
        "outputId": "c28deb46-bfd3-4de8-f8ae-a6c98739c659"
      },
      "execution_count": null,
      "outputs": [
        {
          "output_type": "stream",
          "name": "stdout",
          "text": [
            "3 6 9 \n",
            "3 6 9 \n",
            "3 6 9 \n"
          ]
        }
      ]
    }
  ],
  "metadata": {
    "colab": {
      "provenance": [],
      "authorship_tag": "ABX9TyOuJCn5t8qRWuy7sCnuic3E",
      "include_colab_link": true
    },
    "kernelspec": {
      "display_name": "Python 3",
      "name": "python3"
    },
    "language_info": {
      "name": "python"
    }
  },
  "nbformat": 4,
  "nbformat_minor": 0
}